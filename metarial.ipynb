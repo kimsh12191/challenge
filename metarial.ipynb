{
 "cells": [
  {
   "cell_type": "code",
   "execution_count": 1,
   "metadata": {},
   "outputs": [],
   "source": [
    "import pandas as pd"
   ]
  },
  {
   "cell_type": "code",
   "execution_count": 13,
   "metadata": {},
   "outputs": [],
   "source": [
    "menu_df = pd.read_excel('../../../data/raw/regVocab_0710.xlsx')\n",
    "menu_arr = menu_df['menu'].values"
   ]
  },
  {
   "cell_type": "code",
   "execution_count": 15,
   "metadata": {},
   "outputs": [
    {
     "data": {
      "text/html": [
       "<div>\n",
       "<style scoped>\n",
       "    .dataframe tbody tr th:only-of-type {\n",
       "        vertical-align: middle;\n",
       "    }\n",
       "\n",
       "    .dataframe tbody tr th {\n",
       "        vertical-align: top;\n",
       "    }\n",
       "\n",
       "    .dataframe thead th {\n",
       "        text-align: right;\n",
       "    }\n",
       "</style>\n",
       "<table border=\"1\" class=\"dataframe\">\n",
       "  <thead>\n",
       "    <tr style=\"text-align: right;\">\n",
       "      <th></th>\n",
       "      <th>menu</th>\n",
       "      <th>count</th>\n",
       "      <th>menuSimple (칼로리 검색을 위함)</th>\n",
       "      <th>menuType(주식, 반찬, 소스, 음료, 국, 후식)</th>\n",
       "      <th>menuMaterial(육류, 해산물, 채소, 곡류 등)</th>\n",
       "      <th>menuWeight (메인메뉴 판단을 위한)</th>\n",
       "    </tr>\n",
       "  </thead>\n",
       "  <tbody>\n",
       "    <tr>\n",
       "      <th>0</th>\n",
       "      <td>쌀밥</td>\n",
       "      <td>18260</td>\n",
       "      <td>쌀밥</td>\n",
       "      <td>주식</td>\n",
       "      <td>NaN</td>\n",
       "      <td>NaN</td>\n",
       "    </tr>\n",
       "    <tr>\n",
       "      <th>1</th>\n",
       "      <td>배추김치</td>\n",
       "      <td>13307</td>\n",
       "      <td>배추김치</td>\n",
       "      <td>반찬</td>\n",
       "      <td>NaN</td>\n",
       "      <td>NaN</td>\n",
       "    </tr>\n",
       "    <tr>\n",
       "      <th>2</th>\n",
       "      <td>야채샐러드</td>\n",
       "      <td>6016</td>\n",
       "      <td>야채샐러드</td>\n",
       "      <td>반찬</td>\n",
       "      <td>NaN</td>\n",
       "      <td>NaN</td>\n",
       "    </tr>\n",
       "    <tr>\n",
       "      <th>3</th>\n",
       "      <td>우유</td>\n",
       "      <td>5097</td>\n",
       "      <td>우유</td>\n",
       "      <td>음료</td>\n",
       "      <td>NaN</td>\n",
       "      <td>NaN</td>\n",
       "    </tr>\n",
       "    <tr>\n",
       "      <th>4</th>\n",
       "      <td>딸기잼</td>\n",
       "      <td>4106</td>\n",
       "      <td>딸기잼</td>\n",
       "      <td>소스</td>\n",
       "      <td>NaN</td>\n",
       "      <td>NaN</td>\n",
       "    </tr>\n",
       "  </tbody>\n",
       "</table>\n",
       "</div>"
      ],
      "text/plain": [
       "    menu  count menuSimple (칼로리 검색을 위함) menuType(주식, 반찬, 소스, 음료, 국, 후식)  \\\n",
       "0     쌀밥  18260                      쌀밥                              주식   \n",
       "1   배추김치  13307                    배추김치                              반찬   \n",
       "2  야채샐러드   6016                   야채샐러드                              반찬   \n",
       "3     우유   5097                      우유                              음료   \n",
       "4    딸기잼   4106                     딸기잼                              소스   \n",
       "\n",
       "  menuMaterial(육류, 해산물, 채소, 곡류 등) menuWeight (메인메뉴 판단을 위한)  \n",
       "0                             NaN                      NaN  \n",
       "1                             NaN                      NaN  \n",
       "2                             NaN                      NaN  \n",
       "3                             NaN                      NaN  \n",
       "4                             NaN                      NaN  "
      ]
     },
     "execution_count": 15,
     "metadata": {},
     "output_type": "execute_result"
    }
   ],
   "source": [
    "menu_df.head()"
   ]
  },
  {
   "cell_type": "code",
   "execution_count": 21,
   "metadata": {},
   "outputs": [],
   "source": [
    "import numpy as np"
   ]
  },
  {
   "cell_type": "code",
   "execution_count": 45,
   "metadata": {},
   "outputs": [],
   "source": [
    "vet = ['야채', '콩', '나물', '겉절', '샐러드', '무침', '풋', '연근', '미역', '시금치', '무침', '파'\n",
    "       '오이', '양파', '호박', '상추', '마늘', '브로콜리', '송이', '배추', '쑥', '묵', '부추']\n",
    "sea = ['멸치','쭈꾸미','고등어', '오징어' ,'생선' , '연어', '굴', '장어', '병어', '어묵',\n",
    "       '골뱅이', '코다리', '홍합', '조기', '낙지', '새우','문어', '꽁치', '가자미']\n",
    "beaf = ['돈', '갈비', '소고', '비엔나', '햄', '갈비', '등뼈', '삼겹', '돼지', '후랑크', '순대']\n",
    "bird = ['닭', '계란', '메추리', '삼계', '치킨', '오리']\n",
    "fry = ['튀김', '강정', '탕수']\n",
    "kimchi = ['김치']\n",
    "bab = ['밥']"
   ]
  },
  {
   "cell_type": "code",
   "execution_count": 46,
   "metadata": {},
   "outputs": [
    {
     "name": "stderr",
     "output_type": "stream",
     "text": [
      "/Users/gimsuhyeon/Documents/shenv/lib/python3.6/site-packages/pandas/core/indexing.py:189: SettingWithCopyWarning: \n",
      "A value is trying to be set on a copy of a slice from a DataFrame\n",
      "\n",
      "See the caveats in the documentation: http://pandas.pydata.org/pandas-docs/stable/indexing.html#indexing-view-versus-copy\n",
      "  self._setitem_with_indexer(indexer, value)\n"
     ]
    }
   ],
   "source": [
    "for idx, _menu in enumerate(menu_arr):\n",
    "    for kimchi_value in kimchi:\n",
    "        if kimchi_value in _menu:\n",
    "            menu_df['menuMaterial(육류, 해산물, 채소, 곡류 등)'].iloc[idx] = '김치' \n",
    "    for bab_value in bab:\n",
    "        if bab_value in _menu:\n",
    "            menu_df['menuMaterial(육류, 해산물, 채소, 곡류 등)'].iloc[idx] = '곡류'\n",
    "    for vet_value in vet:\n",
    "        if vet_value in _menu:\n",
    "            menu_df['menuMaterial(육류, 해산물, 채소, 곡류 등)'].iloc[idx] = '채소'\n",
    "    for sea_value in sea:\n",
    "        if sea_value in _menu:\n",
    "            menu_df['menuMaterial(육류, 해산물, 채소, 곡류 등)'].iloc[idx] = '해산물'\n",
    "    for beaf_value in beaf:\n",
    "        if beaf_value in _menu:\n",
    "            menu_df['menuMaterial(육류, 해산물, 채소, 곡류 등)'].iloc[idx] = '육류'\n",
    "    for bird_value in bird:\n",
    "        if bird_value in _menu:\n",
    "            menu_df['menuMaterial(육류, 해산물, 채소, 곡류 등)'].iloc[idx] = '육류(닭)'\n",
    "    for fry_value in fry:\n",
    "        if fry_value in _menu:\n",
    "            menu_df['menuMaterial(육류, 해산물, 채소, 곡류 등)'].iloc[idx] = '튀김'\n",
    "            \n",
    "            "
   ]
  },
  {
   "cell_type": "code",
   "execution_count": 47,
   "metadata": {},
   "outputs": [],
   "source": [
    "menu_df_new = menu_df.copy()"
   ]
  },
  {
   "cell_type": "code",
   "execution_count": 50,
   "metadata": {},
   "outputs": [],
   "source": [
    "menu_df_new.to_excel('../../../data/raw/regVocab_0710_수현.xlsx')"
   ]
  },
  {
   "cell_type": "code",
   "execution_count": 66,
   "metadata": {},
   "outputs": [
    {
     "data": {
      "text/plain": [
       "1050"
      ]
     },
     "execution_count": 66,
     "metadata": {},
     "output_type": "execute_result"
    }
   ],
   "source": [
    "\n",
    "(menu_df_new['menuMaterial(육류, 해산물, 채소, 곡류 등)'].isnull() == False).sum()"
   ]
  },
  {
   "cell_type": "code",
   "execution_count": null,
   "metadata": {},
   "outputs": [],
   "source": []
  }
 ],
 "metadata": {
  "kernelspec": {
   "display_name": "Python 3",
   "language": "python",
   "name": "python3"
  },
  "language_info": {
   "codemirror_mode": {
    "name": "ipython",
    "version": 3
   },
   "file_extension": ".py",
   "mimetype": "text/x-python",
   "name": "python",
   "nbconvert_exporter": "python",
   "pygments_lexer": "ipython3",
   "version": "3.6.3"
  }
 },
 "nbformat": 4,
 "nbformat_minor": 2
}
