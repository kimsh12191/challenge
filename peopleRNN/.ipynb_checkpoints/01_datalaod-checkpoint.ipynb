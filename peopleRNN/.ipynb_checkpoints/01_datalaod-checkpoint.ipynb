{
 "cells": [
  {
   "cell_type": "code",
   "execution_count": 1,
   "metadata": {},
   "outputs": [
    {
     "name": "stderr",
     "output_type": "stream",
     "text": [
      "/usr/local/lib/python3.5/dist-packages/h5py/__init__.py:36: FutureWarning: Conversion of the second argument of issubdtype from `float` to `np.floating` is deprecated. In future, it will be treated as `np.float64 == np.dtype(float).type`.\n",
      "  from ._conv import register_converters as _register_converters\n"
     ]
    }
   ],
   "source": [
    "import numpy as np\n",
    "import glob\n",
    "import matplotlib.pyplot as plt\n",
    "import os\n",
    "import shutil\n",
    "from mpl_toolkits.mplot3d import Axes3D\n",
    "from six.moves import cPickle\n",
    "\n",
    "import pandas as pd\n",
    "\n",
    "from sklearn.preprocessing import OneHotEncoder\n",
    "\n",
    "from RNN import RNNmodel"
   ]
  },
  {
   "cell_type": "markdown",
   "metadata": {},
   "source": [
    "# 데이터 불러오기 및 추출\n",
    "- 같은날 점심 불러오기"
   ]
  },
  {
   "cell_type": "code",
   "execution_count": 2,
   "metadata": {},
   "outputs": [],
   "source": [
    "peopleDfRaw = cPickle.load(open('../../../../data/pickle/rawPickle/people.pkl', 'rb'))\n",
    "#menuDfraw = cPickle.load(open('../data/menu.pkl', 'rb'))"
   ]
  },
  {
   "cell_type": "code",
   "execution_count": 3,
   "metadata": {
    "scrolled": true
   },
   "outputs": [
    {
     "data": {
      "text/html": [
       "<div>\n",
       "<style scoped>\n",
       "    .dataframe tbody tr th:only-of-type {\n",
       "        vertical-align: middle;\n",
       "    }\n",
       "\n",
       "    .dataframe tbody tr th {\n",
       "        vertical-align: top;\n",
       "    }\n",
       "\n",
       "    .dataframe thead th {\n",
       "        text-align: right;\n",
       "    }\n",
       "</style>\n",
       "<table border=\"1\" class=\"dataframe\">\n",
       "  <thead>\n",
       "    <tr style=\"text-align: right;\">\n",
       "      <th></th>\n",
       "      <th>date</th>\n",
       "      <th>type</th>\n",
       "      <th>values</th>\n",
       "      <th>type2</th>\n",
       "      <th>type1</th>\n",
       "    </tr>\n",
       "  </thead>\n",
       "  <tbody>\n",
       "    <tr>\n",
       "      <th>1</th>\n",
       "      <td>2003-03-01</td>\n",
       "      <td>아침식사</td>\n",
       "      <td>37.472924</td>\n",
       "      <td>morning</td>\n",
       "      <td>morning</td>\n",
       "    </tr>\n",
       "    <tr>\n",
       "      <th>2</th>\n",
       "      <td>2003-03-01</td>\n",
       "      <td>점심식사</td>\n",
       "      <td>31.191336</td>\n",
       "      <td>lunch_kor</td>\n",
       "      <td>lunch</td>\n",
       "    </tr>\n",
       "    <tr>\n",
       "      <th>3</th>\n",
       "      <td>2003-03-01</td>\n",
       "      <td>저녁식사</td>\n",
       "      <td>19.566787</td>\n",
       "      <td>dinner</td>\n",
       "      <td>dinner</td>\n",
       "    </tr>\n",
       "    <tr>\n",
       "      <th>4</th>\n",
       "      <td>2003-03-02</td>\n",
       "      <td>아침식사</td>\n",
       "      <td>36.101083</td>\n",
       "      <td>morning</td>\n",
       "      <td>morning</td>\n",
       "    </tr>\n",
       "    <tr>\n",
       "      <th>5</th>\n",
       "      <td>2003-03-02</td>\n",
       "      <td>점심식사</td>\n",
       "      <td>33.357401</td>\n",
       "      <td>lunch_kor</td>\n",
       "      <td>lunch</td>\n",
       "    </tr>\n",
       "  </tbody>\n",
       "</table>\n",
       "</div>"
      ],
      "text/plain": [
       "        date  type     values      type2    type1\n",
       "1 2003-03-01  아침식사  37.472924    morning  morning\n",
       "2 2003-03-01  점심식사  31.191336  lunch_kor    lunch\n",
       "3 2003-03-01  저녁식사  19.566787     dinner   dinner\n",
       "4 2003-03-02  아침식사  36.101083    morning  morning\n",
       "5 2003-03-02  점심식사  33.357401  lunch_kor    lunch"
      ]
     },
     "execution_count": 3,
     "metadata": {},
     "output_type": "execute_result"
    }
   ],
   "source": [
    "peopleDfRaw.head(5)"
   ]
  },
  {
   "cell_type": "code",
   "execution_count": 4,
   "metadata": {
    "scrolled": true
   },
   "outputs": [],
   "source": [
    "# groupby를 쓰면 손쉽게 두가지 조건에 맞는 연산을 할 수 있다 (ex. 같은 date에서 같은 type1끼리 합쳐줘)\n",
    "\n",
    "peopleDfSumType1 = peopleDfRaw.groupby(['date', 'type2']).sum().reset_index()"
   ]
  },
  {
   "cell_type": "code",
   "execution_count": 5,
   "metadata": {},
   "outputs": [
    {
     "data": {
      "text/plain": [
       "array(['dinner', 'lunch_kor', 'morning', 'lunch_west'], dtype=object)"
      ]
     },
     "execution_count": 5,
     "metadata": {},
     "output_type": "execute_result"
    }
   ],
   "source": [
    "peopleDfSumType1['type2'].unique()"
   ]
  },
  {
   "cell_type": "markdown",
   "metadata": {},
   "source": [
    "- date time 처리하기 (numpy 버전)\n",
    "\n",
    "```python\n",
    "dates = np.arange(np.datetime64('2000-01-01'), np.datetime64('2010-01-01'))\n",
    "years = dates.astype('datetime64[Y]').astype(int) + 1970\n",
    "months = dates.astype('datetime64[M]').astype(int) % 12 + 1\n",
    "days = dates - dates.astype('datetime64[M]') + 1\n",
    "```\n"
   ]
  },
  {
   "cell_type": "code",
   "execution_count": 6,
   "metadata": {},
   "outputs": [],
   "source": [
    "# date = peopleDfSumType1.loc[peopleDfSumType1['type1'] == 'lunch'].date.values\n",
    "# people = peopleDfSumType1.loc[peopleDfSumType1['type1'] == 'lunch'].values[:, 2]"
   ]
  },
  {
   "cell_type": "markdown",
   "metadata": {},
   "source": [
    "- 동 / 서 각각 예측할 생각\n",
    "- 틀리는 부분을 메뉴로 예측!"
   ]
  },
  {
   "cell_type": "markdown",
   "metadata": {},
   "source": [
    "- 요일정보 추가\n",
    "- The day of the week with Monday=0, Sunday=6"
   ]
  },
  {
   "cell_type": "code",
   "execution_count": 7,
   "metadata": {},
   "outputs": [
    {
     "name": "stderr",
     "output_type": "stream",
     "text": [
      "/usr/local/lib/python3.5/dist-packages/pandas/core/indexing.py:194: SettingWithCopyWarning: \n",
      "A value is trying to be set on a copy of a slice from a DataFrame\n",
      "\n",
      "See the caveats in the documentation: http://pandas.pydata.org/pandas-docs/stable/indexing.html#indexing-view-versus-copy\n",
      "  self._setitem_with_indexer(indexer, value)\n"
     ]
    }
   ],
   "source": [
    "peopleDfKor = peopleDfSumType1.loc[peopleDfSumType1['type2'] == 'lunch_kor'][['date', 'values']]\n",
    "peopleDfWest = peopleDfSumType1.loc[peopleDfSumType1['type2'] == 'lunch_west'][['date', 'values']]\n",
    "\n",
    "peopleDfKor = peopleDfKor.set_index('date')\n",
    "peopleDfWest = peopleDfWest.set_index('date')\n",
    "\n",
    "peopleDfKor['values_west'] = peopleDfWest['values']\n",
    "\n",
    "peopleDfMerge = peopleDfKor.reset_index()\n",
    "peopleDfMerge.columns = ['date', 'values_kor', 'values_west']\n",
    "peopleDfMerge.values_west.loc[peopleDfMerge.values_west.isnull()] = 0\n",
    "peopleDfMerge['values_sum'] = peopleDfMerge['values_kor']+peopleDfMerge['values_west']\n",
    "\n",
    "peopleDfMerge = peopleDfMerge.set_index('date')\n",
    "\n",
    "peopleDfMerge['weekday'] = peopleDfMerge.index.weekday\n",
    "peopleDfMerge = peopleDfMerge.reset_index()"
   ]
  },
  {
   "cell_type": "markdown",
   "metadata": {},
   "source": [
    "- 데이터구성 확인하기. 주말때문에 두줄로 나눠진다. "
   ]
  },
  {
   "cell_type": "code",
   "execution_count": 8,
   "metadata": {
    "scrolled": false
   },
   "outputs": [
    {
     "data": {
      "image/png": "[encoded data removed]",
      "text/plain": [
       "<matplotlib.figure.Figure at 0x7f42403ae400>"
      ]
     },
     "metadata": {},
     "output_type": "display_data"
    },
    {
     "data": {
      "image/png": "[encoded data removed]",
      "text/plain": [
       "<matplotlib.figure.Figure at 0x7f4237a7c320>"
      ]
     },
     "metadata": {},
     "output_type": "display_data"
    }
   ],
   "source": [
    "peopleDfMerge[['date', 'values_west', 'values_sum','values_kor']].set_index('date').plot(figsize=(10,6))\n",
    "plt.show()\n",
    "peopleDfMerge[['date','values_sum']].set_index('date').plot(figsize=(10,6))\n",
    "plt.show()"
   ]
  },
  {
   "cell_type": "code",
   "execution_count": 9,
   "metadata": {},
   "outputs": [],
   "source": [
    "peopleDfMerge.to_pickle('MergeDataLunch.pkl')"
   ]
  },
  {
   "cell_type": "markdown",
   "metadata": {},
   "source": [
    "# 특이사항확인하기\n",
    "- 공휴일 추가하기"
   ]
  },
  {
   "cell_type": "code",
   "execution_count": 10,
   "metadata": {},
   "outputs": [
    {
     "data": {
      "image/png": "[encoded data removed]",
      "text/plain": [
       "<matplotlib.figure.Figure at 0x7f429acd1e48>"
      ]
     },
     "metadata": {},
     "output_type": "display_data"
    }
   ],
   "source": [
    "start_date = '2008-04-01'\n",
    "end_date = '2008-04-30'\n",
    "holyday = '2008-05-26'\n",
    "pointList = peopleDfMerge.loc[peopleDfMerge.weekday == 6].set_index('date')\\\n",
    "                .values_sum[start_date:end_date].reset_index().values\n",
    "\n",
    "peopleDfMerge.set_index('date').values_sum[start_date:end_date].plot(figsize=(10, 6))\n",
    "# peopleDfMerge.set_index('date').values_kor['2004-03-01':'2004-05-31']\\\n",
    "#             .loc[peopleDfMerge.set_index('date').weekday['2004-03-01':'2004-05-31'] == 6]\n",
    "\n",
    "plt.ylim(0, 150)\n",
    "for date, value in pointList:\n",
    "    plt.scatter(str(date)[:10], value, c='r')\n",
    "#plt.vlines(holyday, 0, 150, 'r')"
   ]
  },
  {
   "cell_type": "markdown",
   "metadata": {},
   "source": [
    "# 휴일 등록하기"
   ]
  },
  {
   "cell_type": "code",
   "execution_count": 11,
   "metadata": {},
   "outputs": [],
   "source": [
    "peopleDfMerge['holiday']=0"
   ]
  },
  {
   "cell_type": "code",
   "execution_count": 12,
   "metadata": {
    "scrolled": true
   },
   "outputs": [
    {
     "name": "stdout",
     "output_type": "stream",
     "text": [
      "2003 0101\n",
      "2003 0301\n",
      "2003 0505\n",
      "2003 0606\n",
      "2003 0815\n",
      "2003 1003\n",
      "2003 1225\n",
      "2004 0101\n",
      "2004 0301\n",
      "2004 0505\n",
      "2004 0606\n",
      "2004 0815\n",
      "2004 1003\n",
      "2004 1225\n",
      "2005 0101\n",
      "2005 0301\n",
      "2005 0505\n",
      "2005 0606\n",
      "2005 0815\n",
      "2005 1003\n",
      "2005 1225\n",
      "2006 0101\n",
      "2006 0301\n",
      "2006 0505\n",
      "2006 0606\n",
      "2006 0815\n",
      "2006 1003\n",
      "2006 1225\n",
      "2007 0101\n",
      "2007 0301\n",
      "2007 0505\n",
      "2007 0606\n",
      "2007 0815\n",
      "2007 1003\n",
      "2007 1225\n",
      "2008 0101\n",
      "2008 0301\n",
      "2008 0505\n",
      "2008 0606\n",
      "2008 0815\n",
      "2008 1003\n",
      "2008 1225\n",
      "2009 0101\n",
      "2009 0301\n",
      "2009 0505\n",
      "2009 0606\n",
      "2009 0815\n",
      "2009 1003\n",
      "2009 1225\n",
      "2010 0101\n",
      "2010 0301\n",
      "2010 0505\n",
      "2010 0606\n",
      "2010 0815\n",
      "2010 1003\n",
      "2010 1225\n",
      "2011 0101\n",
      "2011 0301\n",
      "2011 0505\n",
      "2011 0606\n",
      "2011 0815\n",
      "2011 1003\n",
      "2011 1225\n",
      "2012 0101\n",
      "2012 0301\n",
      "2012 0505\n",
      "2012 0606\n",
      "2012 0815\n",
      "2012 1003\n",
      "2012 1225\n",
      "2013 0101\n",
      "2013 0301\n",
      "2013 0505\n",
      "2013 0606\n",
      "2013 0815\n",
      "2013 1003\n",
      "2013 1225\n",
      "2014 0101\n",
      "2014 0301\n",
      "2014 0505\n",
      "2014 0606\n",
      "2014 0815\n",
      "2014 1003\n",
      "2014 1225\n",
      "2015 0101\n",
      "2015 0301\n",
      "2015 0505\n",
      "2015 0606\n",
      "2015 0815\n",
      "2015 1003\n",
      "2015 1225\n",
      "2016 0101\n",
      "2016 0301\n",
      "2016 0505\n",
      "2016 0606\n",
      "2016 0815\n",
      "2016 1003\n",
      "2016 1225\n",
      "2017 0101\n",
      "2017 0301\n",
      "2017 0505\n",
      "2017 0606\n",
      "2017 0815\n",
      "2017 1003\n",
      "2017 1225\n"
     ]
    }
   ],
   "source": [
    "holidayList =['0101', '0301', '0505', '0606', '0815', '1003', '1225']\n",
    "\n",
    "holidayIdx = []\n",
    "for _year in range(2003, 2018):\n",
    "    for _date in holidayList:\n",
    "        print (_year, _date)\n",
    "        try:\n",
    "            idx = np.where(peopleDfMerge['date'].apply(\n",
    "                lambda x: (x.year == _year)  & (x.month == int(_date[:2])) & (x.day == int(_date[2:]))\n",
    "                ).values)[0][0]\n",
    "            holidayIdx.append(idx)\n",
    "        except IndexError:\n",
    "            pass\n",
    "        "
   ]
  },
  {
   "cell_type": "code",
   "execution_count": 13,
   "metadata": {
    "scrolled": true
   },
   "outputs": [],
   "source": [
    "peopleDfMerge.loc[holidayIdx, 'holiday'] = 1"
   ]
  },
  {
   "cell_type": "code",
   "execution_count": 14,
   "metadata": {},
   "outputs": [],
   "source": [
    "peopleDfMerge.to_pickle('AllData.pkl')"
   ]
  },
  {
   "cell_type": "markdown",
   "metadata": {},
   "source": [
    "# RNN 인풋 만들기\n",
    "\n",
    "- 2011년을 기점으로 식사량이 줄어듦\n",
    "    - 줄어드는 기점을 포함할지 말지 고민할것\n",
    "- ISSUE\n",
    "    - 식수인원 부분에 date자체가 누락된 경우가 있음 (74일)\n",
    "    - RNN input의경우 총길이를 30일이라고 할경우 연속되어야함 따라서 데이터 전처리과정에서 저 누락된부분 처리필요\n",
    "\n",
    "- 누락된 날짜확인\n",
    "\n",
    "- 빨간날 추가해놔야함"
   ]
  },
  {
   "cell_type": "markdown",
   "metadata": {},
   "source": [
    "## 맞춰야하는 날짜 확인"
   ]
  },
  {
   "cell_type": "code",
   "execution_count": 15,
   "metadata": {
    "scrolled": true
   },
   "outputs": [
    {
     "data": {
      "text/plain": [
       "150"
      ]
     },
     "execution_count": 15,
     "metadata": {},
     "output_type": "execute_result"
    }
   ],
   "source": [
    "len(peopleDfMerge[peopleDfMerge['values_sum'] == 0])"
   ]
  },
  {
   "cell_type": "code",
   "execution_count": 16,
   "metadata": {
    "scrolled": true
   },
   "outputs": [
    {
     "data": {
      "text/html": [
       "<div>\n",
       "<style scoped>\n",
       "    .dataframe tbody tr th:only-of-type {\n",
       "        vertical-align: middle;\n",
       "    }\n",
       "\n",
       "    .dataframe tbody tr th {\n",
       "        vertical-align: top;\n",
       "    }\n",
       "\n",
       "    .dataframe thead th {\n",
       "        text-align: right;\n",
       "    }\n",
       "</style>\n",
       "<table border=\"1\" class=\"dataframe\">\n",
       "  <thead>\n",
       "    <tr style=\"text-align: right;\">\n",
       "      <th></th>\n",
       "      <th>date</th>\n",
       "      <th>values_kor</th>\n",
       "      <th>values_west</th>\n",
       "      <th>values_sum</th>\n",
       "      <th>weekday</th>\n",
       "      <th>holiday</th>\n",
       "    </tr>\n",
       "  </thead>\n",
       "  <tbody>\n",
       "    <tr>\n",
       "      <th>2615</th>\n",
       "      <td>2010-07-13</td>\n",
       "      <td>0.0</td>\n",
       "      <td>0.0</td>\n",
       "      <td>0.0</td>\n",
       "      <td>1</td>\n",
       "      <td>0</td>\n",
       "    </tr>\n",
       "    <tr>\n",
       "      <th>2616</th>\n",
       "      <td>2010-07-14</td>\n",
       "      <td>0.0</td>\n",
       "      <td>0.0</td>\n",
       "      <td>0.0</td>\n",
       "      <td>2</td>\n",
       "      <td>0</td>\n",
       "    </tr>\n",
       "    <tr>\n",
       "      <th>2617</th>\n",
       "      <td>2010-07-15</td>\n",
       "      <td>0.0</td>\n",
       "      <td>0.0</td>\n",
       "      <td>0.0</td>\n",
       "      <td>3</td>\n",
       "      <td>0</td>\n",
       "    </tr>\n",
       "    <tr>\n",
       "      <th>2854</th>\n",
       "      <td>2011-03-09</td>\n",
       "      <td>0.0</td>\n",
       "      <td>0.0</td>\n",
       "      <td>0.0</td>\n",
       "      <td>2</td>\n",
       "      <td>0</td>\n",
       "    </tr>\n",
       "    <tr>\n",
       "      <th>2855</th>\n",
       "      <td>2011-03-10</td>\n",
       "      <td>0.0</td>\n",
       "      <td>0.0</td>\n",
       "      <td>0.0</td>\n",
       "      <td>3</td>\n",
       "      <td>0</td>\n",
       "    </tr>\n",
       "  </tbody>\n",
       "</table>\n",
       "</div>"
      ],
      "text/plain": [
       "           date  values_kor  values_west  values_sum  weekday  holiday\n",
       "2615 2010-07-13         0.0          0.0         0.0        1        0\n",
       "2616 2010-07-14         0.0          0.0         0.0        2        0\n",
       "2617 2010-07-15         0.0          0.0         0.0        3        0\n",
       "2854 2011-03-09         0.0          0.0         0.0        2        0\n",
       "2855 2011-03-10         0.0          0.0         0.0        3        0"
      ]
     },
     "execution_count": 16,
     "metadata": {},
     "output_type": "execute_result"
    }
   ],
   "source": [
    "peopleDfMerge[peopleDfMerge['values_sum'] == 0].head()"
   ]
  },
  {
   "cell_type": "markdown",
   "metadata": {},
   "source": [
    "- 0인날 찾기 작업시작"
   ]
  },
  {
   "cell_type": "code",
   "execution_count": 17,
   "metadata": {},
   "outputs": [],
   "source": [
    "\n",
    "peopleDfMerge = peopleDfMerge.set_index('date')\n",
    "peopleDfMerge = peopleDfMerge.resample('1D').sum()"
   ]
  },
  {
   "cell_type": "code",
   "execution_count": 18,
   "metadata": {
    "scrolled": true
   },
   "outputs": [
    {
     "data": {
      "text/plain": [
       "227"
      ]
     },
     "execution_count": 18,
     "metadata": {},
     "output_type": "execute_result"
    }
   ],
   "source": [
    "len(peopleDfMerge[peopleDfMerge['values_sum'] == 0])"
   ]
  },
  {
   "cell_type": "code",
   "execution_count": 19,
   "metadata": {},
   "outputs": [],
   "source": [
    "\n",
    "peopleDfMerge = peopleDfMerge.reset_index()"
   ]
  },
  {
   "cell_type": "code",
   "execution_count": 20,
   "metadata": {
    "scrolled": true
   },
   "outputs": [
    {
     "data": {
      "text/plain": [
       "Int64Index([ 104,  364,  365,  366,  367,  368,  369,  370,  371,  372,\n",
       "            ...\n",
       "            5253, 5290, 5291, 5292, 5335, 5336, 5337, 5378, 5379, 5380],\n",
       "           dtype='int64', length=227)"
      ]
     },
     "execution_count": 20,
     "metadata": {},
     "output_type": "execute_result"
    }
   ],
   "source": [
    "peopleDfMerge[peopleDfMerge['values_sum'] == 0].index"
   ]
  },
  {
   "cell_type": "code",
   "execution_count": 21,
   "metadata": {
    "scrolled": true
   },
   "outputs": [
    {
     "data": {
      "text/html": [
       "<div>\n",
       "<style scoped>\n",
       "    .dataframe tbody tr th:only-of-type {\n",
       "        vertical-align: middle;\n",
       "    }\n",
       "\n",
       "    .dataframe tbody tr th {\n",
       "        vertical-align: top;\n",
       "    }\n",
       "\n",
       "    .dataframe thead th {\n",
       "        text-align: right;\n",
       "    }\n",
       "</style>\n",
       "<table border=\"1\" class=\"dataframe\">\n",
       "  <thead>\n",
       "    <tr style=\"text-align: right;\">\n",
       "      <th></th>\n",
       "      <th>date</th>\n",
       "      <th>values_kor</th>\n",
       "      <th>values_west</th>\n",
       "      <th>values_sum</th>\n",
       "      <th>weekday</th>\n",
       "      <th>holiday</th>\n",
       "    </tr>\n",
       "  </thead>\n",
       "  <tbody>\n",
       "    <tr>\n",
       "      <th>104</th>\n",
       "      <td>2003-06-13</td>\n",
       "      <td>0.0</td>\n",
       "      <td>0.0</td>\n",
       "      <td>0.0</td>\n",
       "      <td>0</td>\n",
       "      <td>0</td>\n",
       "    </tr>\n",
       "    <tr>\n",
       "      <th>364</th>\n",
       "      <td>2004-02-28</td>\n",
       "      <td>0.0</td>\n",
       "      <td>0.0</td>\n",
       "      <td>0.0</td>\n",
       "      <td>0</td>\n",
       "      <td>0</td>\n",
       "    </tr>\n",
       "    <tr>\n",
       "      <th>365</th>\n",
       "      <td>2004-02-29</td>\n",
       "      <td>0.0</td>\n",
       "      <td>0.0</td>\n",
       "      <td>0.0</td>\n",
       "      <td>0</td>\n",
       "      <td>0</td>\n",
       "    </tr>\n",
       "    <tr>\n",
       "      <th>366</th>\n",
       "      <td>2004-03-01</td>\n",
       "      <td>0.0</td>\n",
       "      <td>0.0</td>\n",
       "      <td>0.0</td>\n",
       "      <td>0</td>\n",
       "      <td>0</td>\n",
       "    </tr>\n",
       "    <tr>\n",
       "      <th>367</th>\n",
       "      <td>2004-03-02</td>\n",
       "      <td>0.0</td>\n",
       "      <td>0.0</td>\n",
       "      <td>0.0</td>\n",
       "      <td>0</td>\n",
       "      <td>0</td>\n",
       "    </tr>\n",
       "  </tbody>\n",
       "</table>\n",
       "</div>"
      ],
      "text/plain": [
       "          date  values_kor  values_west  values_sum  weekday  holiday\n",
       "104 2003-06-13         0.0          0.0         0.0        0        0\n",
       "364 2004-02-28         0.0          0.0         0.0        0        0\n",
       "365 2004-02-29         0.0          0.0         0.0        0        0\n",
       "366 2004-03-01         0.0          0.0         0.0        0        0\n",
       "367 2004-03-02         0.0          0.0         0.0        0        0"
      ]
     },
     "execution_count": 21,
     "metadata": {},
     "output_type": "execute_result"
    }
   ],
   "source": [
    "peopleDfMerge[peopleDfMerge['values_sum'] == 0].head()"
   ]
  },
  {
   "cell_type": "markdown",
   "metadata": {},
   "source": [
    "# 학습/검증 구간 분리\n",
    "\n",
    "- 총 5420일"
   ]
  },
  {
   "cell_type": "code",
   "execution_count": 22,
   "metadata": {},
   "outputs": [],
   "source": [
    "# count가  0일인 것만 추출\n",
    "zero_idx = peopleDfMerge[peopleDfMerge['values_sum'] == 0].index"
   ]
  },
  {
   "cell_type": "code",
   "execution_count": 23,
   "metadata": {},
   "outputs": [
    {
     "data": {
      "text/plain": [
       "Int64Index([ 104,  364,  365,  366,  367,  368,  369,  370,  371,  372,\n",
       "            ...\n",
       "            5253, 5290, 5291, 5292, 5335, 5336, 5337, 5378, 5379, 5380],\n",
       "           dtype='int64', length=227)"
      ]
     },
     "execution_count": 23,
     "metadata": {},
     "output_type": "execute_result"
    }
   ],
   "source": [
    "zero_idx"
   ]
  },
  {
   "cell_type": "code",
   "execution_count": 33,
   "metadata": {},
   "outputs": [],
   "source": [
    "# 시작지점과 끝나는 지점 추출\n",
    "before_idx = zero_idx[-1]\n",
    "end_index = [zero_idx[-1]]\n",
    "start_index = [0]\n",
    "for i, idx in enumerate(zero_idx):\n",
    "    if idx != before_idx+1:\n",
    "        end_index.append(idx)\n",
    "    if idx-1 != before_idx:\n",
    "        start_index.append(zero_idx[i-1])\n",
    "    before_idx = zero_idx[i]\n",
    "start_index = np.sort(start_index)\n",
    "end_index = np.sort(end_index)"
   ]
  },
  {
   "cell_type": "markdown",
   "metadata": {},
   "source": [
    "* 227개의 식수인원 0이 등장하는데 그중에서 150개가 문제를 위한 식수인원 0, 따라서 그 직전을 맞추는 것이 좋음,\n",
    "- RNN의 input으로는 30일의 정보가 들어감 -> 따라서 총 33일 버퍼는 있어야, valid에 30 맞출 3일 생김."
   ]
  },
  {
   "cell_type": "markdown",
   "metadata": {},
   "source": [
    "## 학습 검증 데이터 완성\n",
    "\n",
    "- 특이사항 : 학습데이터의 경우 end -3 일까지만 집어넣는다 (3일은 맞춰야하는날) / 검증데이터는 -33일치 집어넣음 (앞에 30일을 이용해서 뒤에3일 맞춤)"
   ]
  },
  {
   "cell_type": "code",
   "execution_count": 34,
   "metadata": {
    "scrolled": true
   },
   "outputs": [
    {
     "data": {
      "text/plain": [
       "[(0, 104),\n",
       " (104, 364),\n",
       " (386, 1499),\n",
       " (1499, 1744),\n",
       " (1744, 2129),\n",
       " (2129, 2153),\n",
       " (2153, 2328),\n",
       " (2375, 2691),\n",
       " (2693, 2930),\n",
       " (2932, 2985),\n",
       " (2987, 3033),\n",
       " (3035, 3059),\n",
       " (3061, 3086),\n",
       " (3088, 3117),\n",
       " (3119, 3153),\n",
       " (3155, 3228),\n",
       " (3230, 3299),\n",
       " (3301, 3359),\n",
       " (3361, 3385),\n",
       " (3387, 3409),\n",
       " (3409, 3434),\n",
       " (3436, 3501),\n",
       " (3503, 3560),\n",
       " (3562, 3600),\n",
       " (3602, 3650),\n",
       " (3652, 3674),\n",
       " (3687, 3803),\n",
       " (3805, 3816),\n",
       " (3818, 3850),\n",
       " (3852, 4034),\n",
       " (4036, 4105),\n",
       " (4115, 4138),\n",
       " (4140, 4190),\n",
       " (4192, 4239),\n",
       " (4241, 4302),\n",
       " (4304, 4341),\n",
       " (4343, 4403),\n",
       " (4405, 4432),\n",
       " (4434, 4479),\n",
       " (4481, 4535),\n",
       " (4537, 4582),\n",
       " (4584, 4650),\n",
       " (4652, 4680),\n",
       " (4682, 4719),\n",
       " (4721, 4782),\n",
       " (4784, 4853),\n",
       " (4855, 4888),\n",
       " (4890, 4931),\n",
       " (4933, 4979),\n",
       " (4981, 5086),\n",
       " (5088, 5137),\n",
       " (5139, 5163),\n",
       " (5165, 5251),\n",
       " (5253, 5290),\n",
       " (5292, 5335),\n",
       " (5337, 5378)]"
      ]
     },
     "execution_count": 34,
     "metadata": {},
     "output_type": "execute_result"
    }
   ],
   "source": [
    "intervalDay = 7\n",
    "\n",
    "# end index 부터 start index 까지 쓰는거, end - start 차가 66보다 작으면 넘어감\n",
    "use_interval = []\n",
    "for start, end in zip(start_index, end_index):\n",
    "    if end-start>intervalDay+3:\n",
    "        use_interval.append((start+1, end))\n",
    "use_interval"
   ]
  },
  {
   "cell_type": "code",
   "execution_count": 37,
   "metadata": {},
   "outputs": [
    {
     "data": {
      "text/html": [
       "<div>\n",
       "<style scoped>\n",
       "    .dataframe tbody tr th:only-of-type {\n",
       "        vertical-align: middle;\n",
       "    }\n",
       "\n",
       "    .dataframe tbody tr th {\n",
       "        vertical-align: top;\n",
       "    }\n",
       "\n",
       "    .dataframe thead th {\n",
       "        text-align: right;\n",
       "    }\n",
       "</style>\n",
       "<table border=\"1\" class=\"dataframe\">\n",
       "  <thead>\n",
       "    <tr style=\"text-align: right;\">\n",
       "      <th></th>\n",
       "      <th>date</th>\n",
       "      <th>values_kor</th>\n",
       "      <th>values_west</th>\n",
       "      <th>values_sum</th>\n",
       "      <th>weekday</th>\n",
       "      <th>holiday</th>\n",
       "    </tr>\n",
       "  </thead>\n",
       "  <tbody>\n",
       "    <tr>\n",
       "      <th>103</th>\n",
       "      <td>2003-06-12</td>\n",
       "      <td>43.826715</td>\n",
       "      <td>0.0</td>\n",
       "      <td>43.826715</td>\n",
       "      <td>3</td>\n",
       "      <td>0</td>\n",
       "    </tr>\n",
       "  </tbody>\n",
       "</table>\n",
       "</div>"
      ],
      "text/plain": [
       "          date  values_kor  values_west  values_sum  weekday  holiday\n",
       "103 2003-06-12   43.826715          0.0   43.826715        3        0"
      ]
     },
     "execution_count": 37,
     "metadata": {},
     "output_type": "execute_result"
    }
   ],
   "source": [
    "peopleDfMerge.iloc[103:104]"
   ]
  },
  {
   "cell_type": "code",
   "execution_count": 28,
   "metadata": {},
   "outputs": [
    {
     "name": "stderr",
     "output_type": "stream",
     "text": [
      "/usr/local/lib/python3.5/dist-packages/ipykernel_launcher.py:15: SettingWithCopyWarning: \n",
      "A value is trying to be set on a copy of a slice from a DataFrame.\n",
      "Try using .loc[row_indexer,col_indexer] = value instead\n",
      "\n",
      "See the caveats in the documentation: http://pandas.pydata.org/pandas-docs/stable/indexing.html#indexing-view-versus-copy\n",
      "  from ipykernel import kernelapp as app\n",
      "/usr/local/lib/python3.5/dist-packages/ipykernel_launcher.py:16: SettingWithCopyWarning: \n",
      "A value is trying to be set on a copy of a slice from a DataFrame.\n",
      "Try using .loc[row_indexer,col_indexer] = value instead\n",
      "\n",
      "See the caveats in the documentation: http://pandas.pydata.org/pandas-docs/stable/indexing.html#indexing-view-versus-copy\n",
      "  app.launch_new_instance()\n"
     ]
    }
   ],
   "source": [
    "# \n",
    "trainDf = []\n",
    "validDf = []\n",
    "for i, (start, end) in enumerate(use_interval):\n",
    "    trainDfTemp = peopleDfMerge.iloc[start:end-3]\n",
    "    validDfTemp = peopleDfMerge.iloc[end-(intervalDay+3):end]\n",
    "    trainDfTemp['orderDf'] = i\n",
    "    validDfTemp['orderDf'] = i\n",
    "    trainDf.append(trainDfTemp)\n",
    "    validDf.append(validDfTemp)\n",
    "trainDf = pd.concat(trainDf)\n",
    "validDf = pd.concat(validDf)\n",
    "\n",
    "trainDf.to_pickle('trainData{}.pkl'.format(str(intervalDay)))\n",
    "validDf.to_pickle('validDate{}.pkl'.format(str(intervalDay)))"
   ]
  },
  {
   "cell_type": "markdown",
   "metadata": {},
   "source": [
    "# Numpy array 만들기"
   ]
  },
  {
   "cell_type": "markdown",
   "metadata": {},
   "source": [
    "- 요일정보와 그때의 식수인원을 반영하기위해서 요일은 ohe 한 후, 거기에 식수인원을 곱해서 input을 만들어줌"
   ]
  },
  {
   "cell_type": "code",
   "execution_count": 150,
   "metadata": {},
   "outputs": [
    {
     "ename": "KeyError",
     "evalue": "\"['count'] not in index\"",
     "output_type": "error",
     "traceback": [
      "\u001b[0;31m\u001b[0m",
      "\u001b[0;31mKeyError\u001b[0mTraceback (most recent call last)",
      "\u001b[0;32m<ipython-input-150-564b4f60037c>\u001b[0m in \u001b[0;36m<module>\u001b[0;34m()\u001b[0m\n\u001b[1;32m      2\u001b[0m \u001b[0;31m# Train은 우선 바로앞만 예측하는걸로 학습\u001b[0m\u001b[0;34m\u001b[0m\u001b[0;34m\u001b[0m\u001b[0m\n\u001b[1;32m      3\u001b[0m \u001b[0;32mfor\u001b[0m \u001b[0morderIndex\u001b[0m \u001b[0;32min\u001b[0m \u001b[0mtrainDf\u001b[0m\u001b[0;34m.\u001b[0m\u001b[0morderDf\u001b[0m\u001b[0;34m.\u001b[0m\u001b[0munique\u001b[0m\u001b[0;34m(\u001b[0m\u001b[0;34m)\u001b[0m\u001b[0;34m:\u001b[0m\u001b[0;34m\u001b[0m\u001b[0m\n\u001b[0;32m----> 4\u001b[0;31m     \u001b[0mtempArray\u001b[0m \u001b[0;34m=\u001b[0m \u001b[0mtrainDf\u001b[0m\u001b[0;34m[\u001b[0m\u001b[0mtrainDf\u001b[0m\u001b[0;34m.\u001b[0m\u001b[0morderDf\u001b[0m \u001b[0;34m==\u001b[0m \u001b[0morderIndex\u001b[0m\u001b[0;34m]\u001b[0m\u001b[0;34m[\u001b[0m\u001b[0;34m[\u001b[0m\u001b[0;34m'count'\u001b[0m\u001b[0;34m,\u001b[0m\u001b[0;34m'weekday'\u001b[0m\u001b[0;34m]\u001b[0m\u001b[0;34m]\u001b[0m\u001b[0;34m.\u001b[0m\u001b[0mvalues\u001b[0m\u001b[0;34m\u001b[0m\u001b[0m\n\u001b[0m\u001b[1;32m      5\u001b[0m     \u001b[0;32mfor\u001b[0m \u001b[0mi\u001b[0m \u001b[0;32min\u001b[0m \u001b[0mrange\u001b[0m\u001b[0;34m(\u001b[0m\u001b[0mlen\u001b[0m\u001b[0;34m(\u001b[0m\u001b[0mtempArray\u001b[0m\u001b[0;34m)\u001b[0m\u001b[0;34m-\u001b[0m\u001b[0;36m31\u001b[0m\u001b[0;34m)\u001b[0m\u001b[0;34m:\u001b[0m\u001b[0;34m\u001b[0m\u001b[0m\n\u001b[1;32m      6\u001b[0m         \u001b[0mtrainWindow\u001b[0m\u001b[0;34m.\u001b[0m\u001b[0mappend\u001b[0m\u001b[0;34m(\u001b[0m\u001b[0mtempArray\u001b[0m\u001b[0;34m[\u001b[0m\u001b[0mi\u001b[0m\u001b[0;34m:\u001b[0m\u001b[0mi\u001b[0m\u001b[0;34m+\u001b[0m\u001b[0;36m31\u001b[0m\u001b[0;34m]\u001b[0m\u001b[0;34m)\u001b[0m\u001b[0;34m\u001b[0m\u001b[0m\n",
      "\u001b[0;32m/usr/local/lib/python3.5/dist-packages/pandas/core/frame.py\u001b[0m in \u001b[0;36m__getitem__\u001b[0;34m(self, key)\u001b[0m\n\u001b[1;32m   2131\u001b[0m         \u001b[0;32mif\u001b[0m \u001b[0misinstance\u001b[0m\u001b[0;34m(\u001b[0m\u001b[0mkey\u001b[0m\u001b[0;34m,\u001b[0m \u001b[0;34m(\u001b[0m\u001b[0mSeries\u001b[0m\u001b[0;34m,\u001b[0m \u001b[0mnp\u001b[0m\u001b[0;34m.\u001b[0m\u001b[0mndarray\u001b[0m\u001b[0;34m,\u001b[0m \u001b[0mIndex\u001b[0m\u001b[0;34m,\u001b[0m \u001b[0mlist\u001b[0m\u001b[0;34m)\u001b[0m\u001b[0;34m)\u001b[0m\u001b[0;34m:\u001b[0m\u001b[0;34m\u001b[0m\u001b[0m\n\u001b[1;32m   2132\u001b[0m             \u001b[0;31m# either boolean or fancy integer index\u001b[0m\u001b[0;34m\u001b[0m\u001b[0;34m\u001b[0m\u001b[0m\n\u001b[0;32m-> 2133\u001b[0;31m             \u001b[0;32mreturn\u001b[0m \u001b[0mself\u001b[0m\u001b[0;34m.\u001b[0m\u001b[0m_getitem_array\u001b[0m\u001b[0;34m(\u001b[0m\u001b[0mkey\u001b[0m\u001b[0;34m)\u001b[0m\u001b[0;34m\u001b[0m\u001b[0m\n\u001b[0m\u001b[1;32m   2134\u001b[0m         \u001b[0;32melif\u001b[0m \u001b[0misinstance\u001b[0m\u001b[0;34m(\u001b[0m\u001b[0mkey\u001b[0m\u001b[0;34m,\u001b[0m \u001b[0mDataFrame\u001b[0m\u001b[0;34m)\u001b[0m\u001b[0;34m:\u001b[0m\u001b[0;34m\u001b[0m\u001b[0m\n\u001b[1;32m   2135\u001b[0m             \u001b[0;32mreturn\u001b[0m \u001b[0mself\u001b[0m\u001b[0;34m.\u001b[0m\u001b[0m_getitem_frame\u001b[0m\u001b[0;34m(\u001b[0m\u001b[0mkey\u001b[0m\u001b[0;34m)\u001b[0m\u001b[0;34m\u001b[0m\u001b[0m\n",
      "\u001b[0;32m/usr/local/lib/python3.5/dist-packages/pandas/core/frame.py\u001b[0m in \u001b[0;36m_getitem_array\u001b[0;34m(self, key)\u001b[0m\n\u001b[1;32m   2175\u001b[0m             \u001b[0;32mreturn\u001b[0m \u001b[0mself\u001b[0m\u001b[0;34m.\u001b[0m\u001b[0m_take\u001b[0m\u001b[0;34m(\u001b[0m\u001b[0mindexer\u001b[0m\u001b[0;34m,\u001b[0m \u001b[0maxis\u001b[0m\u001b[0;34m=\u001b[0m\u001b[0;36m0\u001b[0m\u001b[0;34m,\u001b[0m \u001b[0mconvert\u001b[0m\u001b[0;34m=\u001b[0m\u001b[0;32mFalse\u001b[0m\u001b[0;34m)\u001b[0m\u001b[0;34m\u001b[0m\u001b[0m\n\u001b[1;32m   2176\u001b[0m         \u001b[0;32melse\u001b[0m\u001b[0;34m:\u001b[0m\u001b[0;34m\u001b[0m\u001b[0m\n\u001b[0;32m-> 2177\u001b[0;31m             \u001b[0mindexer\u001b[0m \u001b[0;34m=\u001b[0m \u001b[0mself\u001b[0m\u001b[0;34m.\u001b[0m\u001b[0mloc\u001b[0m\u001b[0;34m.\u001b[0m\u001b[0m_convert_to_indexer\u001b[0m\u001b[0;34m(\u001b[0m\u001b[0mkey\u001b[0m\u001b[0;34m,\u001b[0m \u001b[0maxis\u001b[0m\u001b[0;34m=\u001b[0m\u001b[0;36m1\u001b[0m\u001b[0;34m)\u001b[0m\u001b[0;34m\u001b[0m\u001b[0m\n\u001b[0m\u001b[1;32m   2178\u001b[0m             \u001b[0;32mreturn\u001b[0m \u001b[0mself\u001b[0m\u001b[0;34m.\u001b[0m\u001b[0m_take\u001b[0m\u001b[0;34m(\u001b[0m\u001b[0mindexer\u001b[0m\u001b[0;34m,\u001b[0m \u001b[0maxis\u001b[0m\u001b[0;34m=\u001b[0m\u001b[0;36m1\u001b[0m\u001b[0;34m,\u001b[0m \u001b[0mconvert\u001b[0m\u001b[0;34m=\u001b[0m\u001b[0;32mTrue\u001b[0m\u001b[0;34m)\u001b[0m\u001b[0;34m\u001b[0m\u001b[0m\n\u001b[1;32m   2179\u001b[0m \u001b[0;34m\u001b[0m\u001b[0m\n",
      "\u001b[0;32m/usr/local/lib/python3.5/dist-packages/pandas/core/indexing.py\u001b[0m in \u001b[0;36m_convert_to_indexer\u001b[0;34m(self, obj, axis, is_setter)\u001b[0m\n\u001b[1;32m   1267\u001b[0m                 \u001b[0;32mif\u001b[0m \u001b[0mmask\u001b[0m\u001b[0;34m.\u001b[0m\u001b[0many\u001b[0m\u001b[0;34m(\u001b[0m\u001b[0;34m)\u001b[0m\u001b[0;34m:\u001b[0m\u001b[0;34m\u001b[0m\u001b[0m\n\u001b[1;32m   1268\u001b[0m                     raise KeyError('{mask} not in index'\n\u001b[0;32m-> 1269\u001b[0;31m                                    .format(mask=objarr[mask]))\n\u001b[0m\u001b[1;32m   1270\u001b[0m \u001b[0;34m\u001b[0m\u001b[0m\n\u001b[1;32m   1271\u001b[0m                 \u001b[0;32mreturn\u001b[0m \u001b[0m_values_from_object\u001b[0m\u001b[0;34m(\u001b[0m\u001b[0mindexer\u001b[0m\u001b[0;34m)\u001b[0m\u001b[0;34m\u001b[0m\u001b[0m\n",
      "\u001b[0;31mKeyError\u001b[0m: \"['count'] not in index\""
     ]
    }
   ],
   "source": []
  },
  {
   "cell_type": "code",
   "execution_count": 42,
   "metadata": {
    "scrolled": false
   },
   "outputs": [
    {
     "data": {
      "image/png": "[encoded data removed]",
      "text/plain": [
       "<Figure size 720x432 with 1 Axes>"
      ]
     },
     "metadata": {},
     "output_type": "display_data"
    }
   ],
   "source": [
    "pred_dates = validArray[:, -1, 0].reshape(-1, 1)\n",
    "predResult = thirdResult\n",
    "\n",
    "plt.figure(figsize=(10, 6))\n",
    "plt.title('Third Day')\n",
    "plt.plot(validPeopleTrue[:, -1].reshape(-1, 1), 'r', label='True')\n",
    "plt.plot(predResult.reshape(-1), 'b', label='Pred')\n",
    "plt.legend()\n",
    "plt.xticks(np.arange(0, 16), pred_dates.astype('datetime64[M]').reshape(-1), rotation='vertical')\n",
    "plt.savefig('thridday.png')\n",
    "plt.show()"
   ]
  },
  {
   "cell_type": "markdown",
   "metadata": {},
   "source": [
    "# RNN"
   ]
  },
  {
   "cell_type": "code",
   "execution_count": 22,
   "metadata": {},
   "outputs": [],
   "source": [
    "enc = OneHotEncoder(n_values=7)\n",
    "trainArrayOhe = enc.fit_transform(trainArray[:, :, 1]).toarray().reshape(-1, 31, 7)*trainArray[:, :, [0]]\n",
    "validArrayOhe = enc.fit_transform(validArray[:, :, 2]).toarray().reshape(-1, 33, 7)"
   ]
  },
  {
   "cell_type": "code",
   "execution_count": 23,
   "metadata": {},
   "outputs": [],
   "source": [
    "rnn_config = {\n",
    "    'ID': 'posco_model',\n",
    "    'rnn_ID' : 'RNN_model3',\n",
    "    'n_batch' : 50,\n",
    "    'n_save' : 1000,\n",
    "    'n_prt' : 200,\n",
    "    'n_iter' : 10000,\n",
    "    'LR' : 0.0003,\n",
    "    'n_history' : 100,\n",
    "    'n_input' : 7,\n",
    "    'n_step' : 30,\n",
    "    'n_output' : 1,\n",
    "}\n"
   ]
  },
  {
   "cell_type": "code",
   "execution_count": 24,
   "metadata": {},
   "outputs": [],
   "source": [
    "try: \n",
    "    os.mkdir('./{}'.format(rnn_config['ID']))\n",
    "except FileExistsError:\n",
    "    pass"
   ]
  },
  {
   "cell_type": "code",
   "execution_count": 25,
   "metadata": {
    "scrolled": true
   },
   "outputs": [
    {
     "name": "stdout",
     "output_type": "stream",
     "text": [
      "Model ID : posco_model\n",
      "Model saved at : ./posco_model/RNN_model3\n"
     ]
    }
   ],
   "source": [
    "my_model = RNNmodel(rnn_config)"
   ]
  },
  {
   "cell_type": "code",
   "execution_count": 49,
   "metadata": {},
   "outputs": [
    {
     "data": {
      "text/plain": [
       "array([[ 0.        ,  0.        ,  0.        ,  0.        ,  0.        ,\n",
       "         0.        , 33.35740072],\n",
       "       [58.48375451,  0.        ,  0.        ,  0.        ,  0.        ,\n",
       "         0.        ,  0.        ],\n",
       "       [ 0.        , 59.35018051,  0.        ,  0.        ,  0.        ,\n",
       "         0.        ,  0.        ]])"
      ]
     },
     "execution_count": 49,
     "metadata": {},
     "output_type": "execute_result"
    }
   ],
   "source": [
    "trainX[0, :3]"
   ]
  },
  {
   "cell_type": "code",
   "execution_count": 26,
   "metadata": {
    "scrolled": true
   },
   "outputs": [
    {
     "name": "stdout",
     "output_type": "stream",
     "text": [
      "199/10001Your loss (200/10000) : 190.18484497070312\n",
      "399/10001Your loss (400/10000) : 147.0096435546875\n",
      "599/10001Your loss (600/10000) : 40.886802673339844\n",
      "799/10001Your loss (800/10000) : 45.260196685791016\n",
      "999/10001Your loss (1000/10000) : 67.51913452148438\n",
      "INFO:tensorflow:./posco_model/RNN_model3/checkpoint/RNN_model3_1000 is not in all_model_checkpoint_paths. Manually adding it.\n",
      "1199/10001Your loss (1200/10000) : 33.70323944091797\n",
      "1399/10001Your loss (1400/10000) : 47.11909484863281\n",
      "1599/10001Your loss (1600/10000) : 51.65583038330078\n",
      "1799/10001Your loss (1800/10000) : 53.94184875488281\n",
      "1999/10001Your loss (2000/10000) : 58.655452728271484\n",
      "INFO:tensorflow:./posco_model/RNN_model3/checkpoint/RNN_model3_2000 is not in all_model_checkpoint_paths. Manually adding it.\n",
      "2199/10001Your loss (2200/10000) : 35.470558166503906\n",
      "2399/10001Your loss (2400/10000) : 64.60631561279297\n",
      "2599/10001Your loss (2600/10000) : 27.913503646850586\n",
      "2799/10001Your loss (2800/10000) : 50.7735595703125\n",
      "2999/10001Your loss (3000/10000) : 33.11342239379883\n",
      "INFO:tensorflow:./posco_model/RNN_model3/checkpoint/RNN_model3_3000 is not in all_model_checkpoint_paths. Manually adding it.\n",
      "3199/10001Your loss (3200/10000) : 29.1966552734375\n",
      "3399/10001Your loss (3400/10000) : 20.434228897094727\n",
      "3599/10001Your loss (3600/10000) : 50.254032135009766\n",
      "3799/10001Your loss (3800/10000) : 43.388275146484375\n",
      "3999/10001Your loss (4000/10000) : 23.760356903076172\n",
      "INFO:tensorflow:./posco_model/RNN_model3/checkpoint/RNN_model3_4000 is not in all_model_checkpoint_paths. Manually adding it.\n",
      "4199/10001Your loss (4200/10000) : 26.04077911376953\n",
      "4399/10001Your loss (4400/10000) : 26.8779296875\n",
      "4599/10001Your loss (4600/10000) : 19.399442672729492\n",
      "4799/10001Your loss (4800/10000) : 28.739004135131836\n",
      "4999/10001Your loss (5000/10000) : 32.096229553222656\n",
      "INFO:tensorflow:./posco_model/RNN_model3/checkpoint/RNN_model3_5000 is not in all_model_checkpoint_paths. Manually adding it.\n",
      "5199/10001Your loss (5200/10000) : 38.399478912353516\n",
      "5399/10001Your loss (5400/10000) : 27.758207321166992\n",
      "5599/10001Your loss (5600/10000) : 31.789609909057617\n",
      "5799/10001Your loss (5800/10000) : 61.07124328613281\n",
      "5999/10001Your loss (6000/10000) : 42.59636306762695\n",
      "INFO:tensorflow:./posco_model/RNN_model3/checkpoint/RNN_model3_6000 is not in all_model_checkpoint_paths. Manually adding it.\n",
      "6199/10001Your loss (6200/10000) : 28.19084930419922\n",
      "6399/10001Your loss (6400/10000) : 48.08580017089844\n",
      "6599/10001Your loss (6600/10000) : 21.172565460205078\n",
      "6799/10001Your loss (6800/10000) : 25.040693283081055\n",
      "6999/10001Your loss (7000/10000) : 47.057674407958984\n",
      "INFO:tensorflow:./posco_model/RNN_model3/checkpoint/RNN_model3_7000 is not in all_model_checkpoint_paths. Manually adding it.\n",
      "7199/10001Your loss (7200/10000) : 19.087112426757812\n",
      "7399/10001Your loss (7400/10000) : 34.48908233642578\n",
      "7599/10001Your loss (7600/10000) : 26.178180694580078\n",
      "7799/10001Your loss (7800/10000) : 20.665517807006836\n",
      "7999/10001Your loss (8000/10000) : 32.739620208740234\n",
      "INFO:tensorflow:./posco_model/RNN_model3/checkpoint/RNN_model3_8000 is not in all_model_checkpoint_paths. Manually adding it.\n",
      "8199/10001Your loss (8200/10000) : 18.35487937927246\n",
      "8399/10001Your loss (8400/10000) : 23.676877975463867\n",
      "8599/10001Your loss (8600/10000) : 18.725248336791992\n",
      "8799/10001Your loss (8800/10000) : 41.53086853027344\n",
      "8999/10001Your loss (9000/10000) : 40.26753234863281\n",
      "INFO:tensorflow:./posco_model/RNN_model3/checkpoint/RNN_model3_9000 is not in all_model_checkpoint_paths. Manually adding it.\n",
      "9199/10001Your loss (9200/10000) : 25.5974178314209\n",
      "9399/10001Your loss (9400/10000) : 19.63499641418457\n",
      "9599/10001Your loss (9600/10000) : 31.366914749145508\n",
      "9799/10001Your loss (9800/10000) : 17.780502319335938\n",
      "9999/10001Your loss (10000/10000) : 44.84574890136719\n",
      "INFO:tensorflow:./posco_model/RNN_model3/checkpoint/RNN_model3_10000 is not in all_model_checkpoint_paths. Manually adding it.\n",
      "10000/10001"
     ]
    }
   ],
   "source": [
    "trainX = trainArrayOhe[:, :30, :]\n",
    "trainY = np.sum(trainArrayOhe[:, 30:, :], 2)\n",
    "\n",
    "my_model.fit(trainX, trainY)"
   ]
  },
  {
   "cell_type": "markdown",
   "metadata": {},
   "source": [
    "my_model.load('./posco_model/RNN_model1/checkpoint/RNN_model1_9000')"
   ]
  },
  {
   "cell_type": "markdown",
   "metadata": {},
   "source": [
    "my_model.load('./posco_model/RNN_model2/checkpoint/RNN_model2_4000')"
   ]
  },
  {
   "cell_type": "code",
   "execution_count": null,
   "metadata": {},
   "outputs": [],
   "source": []
  },
  {
   "cell_type": "markdown",
   "metadata": {},
   "source": [
    "# Predict 1개 하는경우"
   ]
  },
  {
   "cell_type": "code",
   "execution_count": 27,
   "metadata": {},
   "outputs": [],
   "source": [
    "tempPeopleIn = validArray[:, :30, [1]].copy()\n",
    "validPeopleTrue = validArray[:, 30:, [1]]\n",
    "validWeek = validArrayOhe"
   ]
  },
  {
   "cell_type": "code",
   "execution_count": 28,
   "metadata": {},
   "outputs": [],
   "source": [
    "firstInput = validWeek[:, :30, :]*tempPeopleIn\n",
    "firstResult = my_model.predict(firstInput)\n",
    "\n",
    "tempPeopleIn = validArray[:, 1:31, [1]].copy()\n",
    "tempPeopleIn[:, -1, :] = firstResult\n",
    "secondInput = validWeek[:, 1:31, :]*tempPeopleIn\n",
    "secondResult = my_model.predict(secondInput)\n",
    "\n",
    "tempPeopleIn = validArray[:, 2:32, [1]].copy()\n",
    "tempPeopleIn[:, -1, :] = secondResult\n",
    "thirdInput = validWeek[:, 2:32, :]*tempPeopleIn\n",
    "thirdResult = my_model.predict(thirdInput)"
   ]
  },
  {
   "cell_type": "code",
   "execution_count": 29,
   "metadata": {},
   "outputs": [
    {
     "data": {
      "text/plain": [
       "4.091104378920306"
      ]
     },
     "execution_count": 29,
     "metadata": {},
     "output_type": "execute_result"
    }
   ],
   "source": [
    "np.sqrt(np.mean(np.square(thirdResult - validPeopleTrue[:, -1, :])))"
   ]
  },
  {
   "cell_type": "code",
   "execution_count": 40,
   "metadata": {},
   "outputs": [
    {
     "data": {
      "image/png": "[encoded data removed]",
      "text/plain": [
       "<Figure size 720x432 with 1 Axes>"
      ]
     },
     "metadata": {},
     "output_type": "display_data"
    }
   ],
   "source": [
    "pred_dates = validArray[:, 30:, 0].reshape(-1, 1)\n",
    "predResult = np.concatenate([firstResult, secondResult, thirdResult], 1)\n",
    "\n",
    "plt.figure(figsize=(10, 6))\n",
    "plt.title('Three Day(one, two, three)')\n",
    "plt.plot(validPeopleTrue.reshape(-1, 1), 'r', label='True')\n",
    "plt.plot(predResult.reshape(-1), 'b', label='Pred')\n",
    "plt.legend()\n",
    "plt.xticks(np.arange(0, 48, 3), pred_dates.astype('datetime64[M]').reshape(-1)[np.arange(0, 48, 3)], rotation='vertical')\n",
    "plt.savefig('threeday.png')\n",
    "plt.show()"
   ]
  },
  {
   "cell_type": "code",
   "execution_count": 43,
   "metadata": {
    "scrolled": true
   },
   "outputs": [
    {
     "data": {
      "text/plain": [
       "array([Timestamp('2003-06-11 00:00:00'), Timestamp('2009-07-13 00:00:00'),\n",
       "       Timestamp('2010-07-11 00:00:00'), Timestamp('2011-03-07 00:00:00'),\n",
       "       Timestamp('2011-12-30 00:00:00'), Timestamp('2012-03-10 00:00:00'),\n",
       "       Timestamp('2013-07-27 00:00:00'), Timestamp('2014-03-15 00:00:00'),\n",
       "       Timestamp('2017-01-30 00:00:00'), Timestamp('2017-07-14 00:00:00')],\n",
       "      dtype=object)"
      ]
     },
     "execution_count": 43,
     "metadata": {},
     "output_type": "execute_result"
    }
   ],
   "source": [
    "pred_dates[predResult>validPeopleTrue[:, -1]]"
   ]
  },
  {
   "cell_type": "code",
   "execution_count": null,
   "metadata": {},
   "outputs": [],
   "source": []
  },
  {
   "cell_type": "code",
   "execution_count": null,
   "metadata": {},
   "outputs": [],
   "source": []
  },
  {
   "cell_type": "code",
   "execution_count": null,
   "metadata": {},
   "outputs": [],
   "source": []
  },
  {
   "cell_type": "code",
   "execution_count": null,
   "metadata": {},
   "outputs": [],
   "source": []
  },
  {
   "cell_type": "code",
   "execution_count": null,
   "metadata": {},
   "outputs": [],
   "source": []
  },
  {
   "cell_type": "code",
   "execution_count": null,
   "metadata": {},
   "outputs": [],
   "source": []
  },
  {
   "cell_type": "markdown",
   "metadata": {},
   "source": [
    "# Predict 3개 하는 경우"
   ]
  },
  {
   "cell_type": "markdown",
   "metadata": {},
   "source": [
    "tempPeopleIn = validArray[:, :30, [1]].copy()\n",
    "validPeopleTrue = validArray[:, 30:, [1]]\n",
    "validWeek = validArrayOhe"
   ]
  },
  {
   "cell_type": "markdown",
   "metadata": {},
   "source": [
    "firstInput = validWeek[:, :30, :]*tempPeopleIn\n",
    "predResult = my_model.predict(firstInput)\n"
   ]
  },
  {
   "cell_type": "markdown",
   "metadata": {},
   "source": [
    "np.sqrt(np.mean(np.square(predResult[:, -1] - validPeopleTrue[:, -1, :])))"
   ]
  },
  {
   "cell_type": "markdown",
   "metadata": {},
   "source": [
    "pred_dates = validArray[:, 30:, 0].reshape(-1, 1)\n",
    "\n",
    "plt.figure(figsize=(10, 6))\n",
    "plt.title('Three Day(one, two, three)')\n",
    "plt.plot(validPeopleTrue.reshape(-1, 1), 'r', label='True')\n",
    "plt.plot(predResult.reshape(-1), 'b', label='Pred')\n",
    "plt.legend()\n",
    "plt.xticks(np.arange(0, 48, 3), pred_dates.astype('datetime64[M]').reshape(-1)[np.arange(0, 48, 3)], rotation='vertical')\n",
    "plt.show()"
   ]
  },
  {
   "cell_type": "markdown",
   "metadata": {
    "scrolled": false
   },
   "source": [
    "pred_dates = validArray[:, -1, 0].reshape(-1, 1)\n",
    "\n",
    "plt.figure(figsize=(10, 6))\n",
    "plt.title('Third Day')\n",
    "plt.plot(validPeopleTrue[:, -1].reshape(-1, 1), 'r', label='True')\n",
    "plt.plot(predResult[:, -1].reshape(-1), 'b', label='Pred')\n",
    "plt.legend()\n",
    "plt.xticks(np.arange(0, 16), pred_dates.astype('datetime64[M]').reshape(-1), rotation='vertical')\n",
    "plt.show()"
   ]
  }
 ],
 "metadata": {
  "kernelspec": {
   "display_name": "Python 3",
   "language": "python",
   "name": "python3"
  },
  "language_info": {
   "codemirror_mode": {
    "name": "ipython",
    "version": 3
   },
   "file_extension": ".py",
   "mimetype": "text/x-python",
   "name": "python",
   "nbconvert_exporter": "python",
   "pygments_lexer": "ipython3",
   "version": "3.5.2"
  }
 },
 "nbformat": 4,
 "nbformat_minor": 2
}
