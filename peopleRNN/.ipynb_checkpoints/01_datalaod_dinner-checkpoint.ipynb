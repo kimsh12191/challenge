{
 "cells": [
  {
   "cell_type": "code",
   "execution_count": 1,
   "metadata": {},
   "outputs": [
    {
     "name": "stderr",
     "output_type": "stream",
     "text": [
      "/usr/local/lib/python3.5/dist-packages/h5py/__init__.py:36: FutureWarning: Conversion of the second argument of issubdtype from `float` to `np.floating` is deprecated. In future, it will be treated as `np.float64 == np.dtype(float).type`.\n",
      "  from ._conv import register_converters as _register_converters\n"
     ]
    }
   ],
   "source": [
    "import numpy as np\n",
    "import glob\n",
    "import matplotlib.pyplot as plt\n",
    "import os\n",
    "import shutil\n",
    "from mpl_toolkits.mplot3d import Axes3D\n",
    "from six.moves import cPickle\n",
    "\n",
    "import pandas as pd\n",
    "\n",
    "from sklearn.preprocessing import OneHotEncoder\n",
    "\n",
    "from RNN import RNNmodel"
   ]
  },
  {
   "cell_type": "markdown",
   "metadata": {},
   "source": [
    "# 데이터 불러오기 및 추출"
   ]
  },
  {
   "cell_type": "code",
   "execution_count": 2,
   "metadata": {},
   "outputs": [],
   "source": [
    "peopleDfRaw = cPickle.load(open('../../../../data/pickle/rawPickle/people.pkl', 'rb'))\n",
    "#menuDfraw = cPickle.load(open('../data/menu.pkl', 'rb'))"
   ]
  },
  {
   "cell_type": "code",
   "execution_count": 3,
   "metadata": {
    "scrolled": true
   },
   "outputs": [
    {
     "data": {
      "text/html": [
       "<div>\n",
       "<style scoped>\n",
       "    .dataframe tbody tr th:only-of-type {\n",
       "        vertical-align: middle;\n",
       "    }\n",
       "\n",
       "    .dataframe tbody tr th {\n",
       "        vertical-align: top;\n",
       "    }\n",
       "\n",
       "    .dataframe thead th {\n",
       "        text-align: right;\n",
       "    }\n",
       "</style>\n",
       "<table border=\"1\" class=\"dataframe\">\n",
       "  <thead>\n",
       "    <tr style=\"text-align: right;\">\n",
       "      <th></th>\n",
       "      <th>date</th>\n",
       "      <th>type</th>\n",
       "      <th>values</th>\n",
       "      <th>type2</th>\n",
       "      <th>type1</th>\n",
       "    </tr>\n",
       "  </thead>\n",
       "  <tbody>\n",
       "    <tr>\n",
       "      <th>1</th>\n",
       "      <td>2003-03-01</td>\n",
       "      <td>아침식사</td>\n",
       "      <td>37.472924</td>\n",
       "      <td>morning</td>\n",
       "      <td>morning</td>\n",
       "    </tr>\n",
       "    <tr>\n",
       "      <th>2</th>\n",
       "      <td>2003-03-01</td>\n",
       "      <td>점심식사</td>\n",
       "      <td>31.191336</td>\n",
       "      <td>lunch_kor</td>\n",
       "      <td>lunch</td>\n",
       "    </tr>\n",
       "    <tr>\n",
       "      <th>3</th>\n",
       "      <td>2003-03-01</td>\n",
       "      <td>저녁식사</td>\n",
       "      <td>19.566787</td>\n",
       "      <td>dinner</td>\n",
       "      <td>dinner</td>\n",
       "    </tr>\n",
       "    <tr>\n",
       "      <th>4</th>\n",
       "      <td>2003-03-02</td>\n",
       "      <td>아침식사</td>\n",
       "      <td>36.101083</td>\n",
       "      <td>morning</td>\n",
       "      <td>morning</td>\n",
       "    </tr>\n",
       "    <tr>\n",
       "      <th>5</th>\n",
       "      <td>2003-03-02</td>\n",
       "      <td>점심식사</td>\n",
       "      <td>33.357401</td>\n",
       "      <td>lunch_kor</td>\n",
       "      <td>lunch</td>\n",
       "    </tr>\n",
       "  </tbody>\n",
       "</table>\n",
       "</div>"
      ],
      "text/plain": [
       "        date  type     values      type2    type1\n",
       "1 2003-03-01  아침식사  37.472924    morning  morning\n",
       "2 2003-03-01  점심식사  31.191336  lunch_kor    lunch\n",
       "3 2003-03-01  저녁식사  19.566787     dinner   dinner\n",
       "4 2003-03-02  아침식사  36.101083    morning  morning\n",
       "5 2003-03-02  점심식사  33.357401  lunch_kor    lunch"
      ]
     },
     "execution_count": 3,
     "metadata": {},
     "output_type": "execute_result"
    }
   ],
   "source": [
    "peopleDfRaw.head(5)"
   ]
  },
  {
   "cell_type": "code",
   "execution_count": 4,
   "metadata": {
    "scrolled": true
   },
   "outputs": [],
   "source": [
    "# groupby를 쓰면 손쉽게 두가지 조건에 맞는 연산을 할 수 있다 (ex. 같은 date에서 같은 type1끼리 합쳐줘)\n",
    "\n",
    "peopleDfSumType1 = peopleDfRaw.groupby(['date', 'type2']).sum().reset_index()"
   ]
  },
  {
   "cell_type": "code",
   "execution_count": 5,
   "metadata": {},
   "outputs": [
    {
     "data": {
      "text/plain": [
       "array(['dinner', 'lunch_kor', 'morning', 'lunch_west'], dtype=object)"
      ]
     },
     "execution_count": 5,
     "metadata": {},
     "output_type": "execute_result"
    }
   ],
   "source": [
    "peopleDfSumType1['type2'].unique()"
   ]
  },
  {
   "cell_type": "markdown",
   "metadata": {},
   "source": [
    "- date time 처리하기 (numpy 버전)\n",
    "\n",
    "```python\n",
    "dates = np.arange(np.datetime64('2000-01-01'), np.datetime64('2010-01-01'))\n",
    "years = dates.astype('datetime64[Y]').astype(int) + 1970\n",
    "months = dates.astype('datetime64[M]').astype(int) % 12 + 1\n",
    "days = dates - dates.astype('datetime64[M]') + 1\n",
    "```\n"
   ]
  },
  {
   "cell_type": "code",
   "execution_count": 6,
   "metadata": {},
   "outputs": [],
   "source": [
    "# date = peopleDfSumType1.loc[peopleDfSumType1['type1'] == 'lunch'].date.values\n",
    "# people = peopleDfSumType1.loc[peopleDfSumType1['type1'] == 'lunch'].values[:, 2]"
   ]
  },
  {
   "cell_type": "markdown",
   "metadata": {},
   "source": [
    "- 동 / 서 각각 예측할 생각\n",
    "- 틀리는 부분을 메뉴로 예측!"
   ]
  },
  {
   "cell_type": "markdown",
   "metadata": {},
   "source": [
    "- 요일정보 추가\n",
    "- The day of the week with Monday=0, Sunday=6"
   ]
  },
  {
   "cell_type": "code",
   "execution_count": 7,
   "metadata": {},
   "outputs": [],
   "source": [
    "peopleDfKor = peopleDfSumType1.loc[peopleDfSumType1['type2'] == 'dinner'][['date', 'values']]\n",
    "\n",
    "\n",
    "peopleDfKor = peopleDfKor.set_index('date')\n",
    "\n",
    "\n",
    "peopleDfKor['weekday'] = peopleDfKor.index.weekday\n",
    "peopleDfMerge = peopleDfKor.reset_index()"
   ]
  },
  {
   "cell_type": "markdown",
   "metadata": {},
   "source": [
    "- 데이터구성 확인하기. 주말때문에 두줄로 나눠진다. "
   ]
  },
  {
   "cell_type": "code",
   "execution_count": 8,
   "metadata": {
    "scrolled": false
   },
   "outputs": [
    {
     "data": {
      "image/png": "[encoded data removed]",
      "text/plain": [
       "<matplotlib.figure.Figure at 0x7f3aa1f4ceb8>"
      ]
     },
     "metadata": {},
     "output_type": "display_data"
    }
   ],
   "source": [
    "peopleDfMerge[['date' ,'values']].set_index('date').plot(figsize=(10,6))\n",
    "plt.show()\n"
   ]
  },
  {
   "cell_type": "code",
   "execution_count": 9,
   "metadata": {},
   "outputs": [],
   "source": [
    "peopleDfMerge.to_pickle('MergeDataDinner.pkl')"
   ]
  },
  {
   "cell_type": "markdown",
   "metadata": {},
   "source": [
    "# 특이사항확인하기\n",
    "- 공휴일 추가하기"
   ]
  },
  {
   "cell_type": "code",
   "execution_count": 10,
   "metadata": {},
   "outputs": [
    {
     "data": {
      "image/png": "[encoded data removed]",
      "text/plain": [
       "<matplotlib.figure.Figure at 0x7f3a9fe84160>"
      ]
     },
     "metadata": {},
     "output_type": "display_data"
    }
   ],
   "source": [
    "start_date = '2008-04-01'\n",
    "end_date = '2008-04-30'\n",
    "holyday = '2008-05-26'\n",
    "pointList = peopleDfMerge.loc[peopleDfMerge.weekday == 6].set_index('date')\\\n",
    "                ['values'][start_date:end_date].reset_index().values\n",
    "\n",
    "peopleDfMerge.set_index('date')['values'][start_date:end_date].plot(figsize=(10, 6))\n",
    "# peopleDfMerge.set_index('date').values_kor['2004-03-01':'2004-05-31']\\\n",
    "#             .loc[peopleDfMerge.set_index('date').weekday['2004-03-01':'2004-05-31'] == 6]\n",
    "\n",
    "plt.ylim(0, 150)\n",
    "for date, value in pointList:\n",
    "    plt.scatter(str(date)[:10], value, c='r')\n",
    "#plt.vlines(holyday, 0, 150, 'r')"
   ]
  },
  {
   "cell_type": "markdown",
   "metadata": {},
   "source": [
    "# 휴일 등록하기"
   ]
  },
  {
   "cell_type": "code",
   "execution_count": 11,
   "metadata": {},
   "outputs": [],
   "source": [
    "peopleDfMerge['holiday']=0"
   ]
  },
  {
   "cell_type": "code",
   "execution_count": 12,
   "metadata": {
    "scrolled": true
   },
   "outputs": [
    {
     "name": "stdout",
     "output_type": "stream",
     "text": [
      "2003 0101\n",
      "2003 0301\n",
      "2003 0505\n",
      "2003 0606\n",
      "2003 0815\n",
      "2003 1003\n",
      "2003 1225\n",
      "2004 0101\n",
      "2004 0301\n",
      "2004 0505\n",
      "2004 0606\n",
      "2004 0815\n",
      "2004 1003\n",
      "2004 1225\n",
      "2005 0101\n",
      "2005 0301\n",
      "2005 0505\n",
      "2005 0606\n",
      "2005 0815\n",
      "2005 1003\n",
      "2005 1225\n",
      "2006 0101\n",
      "2006 0301\n",
      "2006 0505\n",
      "2006 0606\n",
      "2006 0815\n",
      "2006 1003\n",
      "2006 1225\n",
      "2007 0101\n",
      "2007 0301\n",
      "2007 0505\n",
      "2007 0606\n",
      "2007 0815\n",
      "2007 1003\n",
      "2007 1225\n",
      "2008 0101\n",
      "2008 0301\n",
      "2008 0505\n",
      "2008 0606\n",
      "2008 0815\n",
      "2008 1003\n",
      "2008 1225\n",
      "2009 0101\n",
      "2009 0301\n",
      "2009 0505\n",
      "2009 0606\n",
      "2009 0815\n",
      "2009 1003\n",
      "2009 1225\n",
      "2010 0101\n",
      "2010 0301\n",
      "2010 0505\n",
      "2010 0606\n",
      "2010 0815\n",
      "2010 1003\n",
      "2010 1225\n",
      "2011 0101\n",
      "2011 0301\n",
      "2011 0505\n",
      "2011 0606\n",
      "2011 0815\n",
      "2011 1003\n",
      "2011 1225\n",
      "2012 0101\n",
      "2012 0301\n",
      "2012 0505\n",
      "2012 0606\n",
      "2012 0815\n",
      "2012 1003\n",
      "2012 1225\n",
      "2013 0101\n",
      "2013 0301\n",
      "2013 0505\n",
      "2013 0606\n",
      "2013 0815\n",
      "2013 1003\n",
      "2013 1225\n",
      "2014 0101\n",
      "2014 0301\n",
      "2014 0505\n",
      "2014 0606\n",
      "2014 0815\n",
      "2014 1003\n",
      "2014 1225\n",
      "2015 0101\n",
      "2015 0301\n",
      "2015 0505\n",
      "2015 0606\n",
      "2015 0815\n",
      "2015 1003\n",
      "2015 1225\n",
      "2016 0101\n",
      "2016 0301\n",
      "2016 0505\n",
      "2016 0606\n",
      "2016 0815\n",
      "2016 1003\n",
      "2016 1225\n",
      "2017 0101\n",
      "2017 0301\n",
      "2017 0505\n",
      "2017 0606\n",
      "2017 0815\n",
      "2017 1003\n",
      "2017 1225\n"
     ]
    }
   ],
   "source": [
    "holidayList =['0101', '0301', '0505', '0606', '0815', '1003', '1225']\n",
    "\n",
    "holidayIdx = []\n",
    "for _year in range(2003, 2018):\n",
    "    for _date in holidayList:\n",
    "        print (_year, _date)\n",
    "        try:\n",
    "            idx = np.where(peopleDfMerge['date'].apply(\n",
    "                lambda x: (x.year == _year)  & (x.month == int(_date[:2])) & (x.day == int(_date[2:]))\n",
    "                ).values)[0][0]\n",
    "            holidayIdx.append(idx)\n",
    "        except IndexError:\n",
    "            pass\n",
    "        "
   ]
  },
  {
   "cell_type": "code",
   "execution_count": 13,
   "metadata": {
    "scrolled": true
   },
   "outputs": [],
   "source": [
    "peopleDfMerge.loc[holidayIdx, 'holiday'] = 1"
   ]
  },
  {
   "cell_type": "code",
   "execution_count": 14,
   "metadata": {},
   "outputs": [],
   "source": [
    "peopleDfMerge.to_pickle('AllDataDinner.pkl')"
   ]
  },
  {
   "cell_type": "markdown",
   "metadata": {},
   "source": [
    "# RNN 인풋 만들기\n",
    "\n",
    "- 2011년을 기점으로 식사량이 줄어듦\n",
    "    - 줄어드는 기점을 포함할지 말지 고민할것\n",
    "- ISSUE\n",
    "    - 식수인원 부분에 date자체가 누락된 경우가 있음 (74일)\n",
    "    - RNN input의경우 총길이를 30일이라고 할경우 연속되어야함 따라서 데이터 전처리과정에서 저 누락된부분 처리필요\n",
    "\n",
    "- 누락된 날짜확인\n",
    "\n",
    "- 빨간날 추가해놔야함"
   ]
  },
  {
   "cell_type": "markdown",
   "metadata": {},
   "source": [
    "## 맞춰야하는 날짜 확인"
   ]
  },
  {
   "cell_type": "code",
   "execution_count": 15,
   "metadata": {
    "scrolled": true
   },
   "outputs": [
    {
     "data": {
      "text/plain": [
       "150"
      ]
     },
     "execution_count": 15,
     "metadata": {},
     "output_type": "execute_result"
    }
   ],
   "source": [
    "len(peopleDfMerge[peopleDfMerge['values'] == 0])"
   ]
  },
  {
   "cell_type": "code",
   "execution_count": 16,
   "metadata": {
    "scrolled": true
   },
   "outputs": [
    {
     "data": {
      "text/html": [
       "<div>\n",
       "<style scoped>\n",
       "    .dataframe tbody tr th:only-of-type {\n",
       "        vertical-align: middle;\n",
       "    }\n",
       "\n",
       "    .dataframe tbody tr th {\n",
       "        vertical-align: top;\n",
       "    }\n",
       "\n",
       "    .dataframe thead th {\n",
       "        text-align: right;\n",
       "    }\n",
       "</style>\n",
       "<table border=\"1\" class=\"dataframe\">\n",
       "  <thead>\n",
       "    <tr style=\"text-align: right;\">\n",
       "      <th></th>\n",
       "      <th>date</th>\n",
       "      <th>values</th>\n",
       "      <th>weekday</th>\n",
       "      <th>holiday</th>\n",
       "    </tr>\n",
       "  </thead>\n",
       "  <tbody>\n",
       "    <tr>\n",
       "      <th>2618</th>\n",
       "      <td>2010-07-13</td>\n",
       "      <td>0.0</td>\n",
       "      <td>1</td>\n",
       "      <td>0</td>\n",
       "    </tr>\n",
       "    <tr>\n",
       "      <th>2619</th>\n",
       "      <td>2010-07-14</td>\n",
       "      <td>0.0</td>\n",
       "      <td>2</td>\n",
       "      <td>0</td>\n",
       "    </tr>\n",
       "    <tr>\n",
       "      <th>2620</th>\n",
       "      <td>2010-07-15</td>\n",
       "      <td>0.0</td>\n",
       "      <td>3</td>\n",
       "      <td>0</td>\n",
       "    </tr>\n",
       "    <tr>\n",
       "      <th>2857</th>\n",
       "      <td>2011-03-09</td>\n",
       "      <td>0.0</td>\n",
       "      <td>2</td>\n",
       "      <td>0</td>\n",
       "    </tr>\n",
       "    <tr>\n",
       "      <th>2858</th>\n",
       "      <td>2011-03-10</td>\n",
       "      <td>0.0</td>\n",
       "      <td>3</td>\n",
       "      <td>0</td>\n",
       "    </tr>\n",
       "  </tbody>\n",
       "</table>\n",
       "</div>"
      ],
      "text/plain": [
       "           date  values  weekday  holiday\n",
       "2618 2010-07-13     0.0        1        0\n",
       "2619 2010-07-14     0.0        2        0\n",
       "2620 2010-07-15     0.0        3        0\n",
       "2857 2011-03-09     0.0        2        0\n",
       "2858 2011-03-10     0.0        3        0"
      ]
     },
     "execution_count": 16,
     "metadata": {},
     "output_type": "execute_result"
    }
   ],
   "source": [
    "peopleDfMerge[peopleDfMerge['values'] == 0].head()"
   ]
  },
  {
   "cell_type": "markdown",
   "metadata": {},
   "source": [
    "- 0인날 찾기 작업시작"
   ]
  },
  {
   "cell_type": "code",
   "execution_count": 17,
   "metadata": {},
   "outputs": [],
   "source": [
    "\n",
    "peopleDfMerge = peopleDfMerge.set_index('date')\n",
    "peopleDfMerge = peopleDfMerge.resample('1D').sum()"
   ]
  },
  {
   "cell_type": "code",
   "execution_count": 18,
   "metadata": {
    "scrolled": true
   },
   "outputs": [
    {
     "data": {
      "text/plain": [
       "224"
      ]
     },
     "execution_count": 18,
     "metadata": {},
     "output_type": "execute_result"
    }
   ],
   "source": [
    "len(peopleDfMerge[peopleDfMerge['values'] == 0])"
   ]
  },
  {
   "cell_type": "code",
   "execution_count": 19,
   "metadata": {},
   "outputs": [],
   "source": [
    "\n",
    "peopleDfMerge = peopleDfMerge.reset_index()"
   ]
  },
  {
   "cell_type": "code",
   "execution_count": 20,
   "metadata": {
    "scrolled": true
   },
   "outputs": [
    {
     "data": {
      "text/plain": [
       "Int64Index([ 104,  364,  365,  366,  367,  368,  369,  370,  371,  372,\n",
       "            ...\n",
       "            5253, 5290, 5291, 5292, 5335, 5336, 5337, 5378, 5379, 5380],\n",
       "           dtype='int64', length=224)"
      ]
     },
     "execution_count": 20,
     "metadata": {},
     "output_type": "execute_result"
    }
   ],
   "source": [
    "peopleDfMerge[peopleDfMerge['values'] == 0].index"
   ]
  },
  {
   "cell_type": "code",
   "execution_count": 21,
   "metadata": {
    "scrolled": true
   },
   "outputs": [
    {
     "data": {
      "text/html": [
       "<div>\n",
       "<style scoped>\n",
       "    .dataframe tbody tr th:only-of-type {\n",
       "        vertical-align: middle;\n",
       "    }\n",
       "\n",
       "    .dataframe tbody tr th {\n",
       "        vertical-align: top;\n",
       "    }\n",
       "\n",
       "    .dataframe thead th {\n",
       "        text-align: right;\n",
       "    }\n",
       "</style>\n",
       "<table border=\"1\" class=\"dataframe\">\n",
       "  <thead>\n",
       "    <tr style=\"text-align: right;\">\n",
       "      <th></th>\n",
       "      <th>date</th>\n",
       "      <th>values</th>\n",
       "      <th>weekday</th>\n",
       "      <th>holiday</th>\n",
       "    </tr>\n",
       "  </thead>\n",
       "  <tbody>\n",
       "    <tr>\n",
       "      <th>104</th>\n",
       "      <td>2003-06-13</td>\n",
       "      <td>0.0</td>\n",
       "      <td>0</td>\n",
       "      <td>0</td>\n",
       "    </tr>\n",
       "    <tr>\n",
       "      <th>364</th>\n",
       "      <td>2004-02-28</td>\n",
       "      <td>0.0</td>\n",
       "      <td>0</td>\n",
       "      <td>0</td>\n",
       "    </tr>\n",
       "    <tr>\n",
       "      <th>365</th>\n",
       "      <td>2004-02-29</td>\n",
       "      <td>0.0</td>\n",
       "      <td>0</td>\n",
       "      <td>0</td>\n",
       "    </tr>\n",
       "    <tr>\n",
       "      <th>366</th>\n",
       "      <td>2004-03-01</td>\n",
       "      <td>0.0</td>\n",
       "      <td>0</td>\n",
       "      <td>0</td>\n",
       "    </tr>\n",
       "    <tr>\n",
       "      <th>367</th>\n",
       "      <td>2004-03-02</td>\n",
       "      <td>0.0</td>\n",
       "      <td>0</td>\n",
       "      <td>0</td>\n",
       "    </tr>\n",
       "  </tbody>\n",
       "</table>\n",
       "</div>"
      ],
      "text/plain": [
       "          date  values  weekday  holiday\n",
       "104 2003-06-13     0.0        0        0\n",
       "364 2004-02-28     0.0        0        0\n",
       "365 2004-02-29     0.0        0        0\n",
       "366 2004-03-01     0.0        0        0\n",
       "367 2004-03-02     0.0        0        0"
      ]
     },
     "execution_count": 21,
     "metadata": {},
     "output_type": "execute_result"
    }
   ],
   "source": [
    "peopleDfMerge[peopleDfMerge['values'] == 0].head()"
   ]
  },
  {
   "cell_type": "markdown",
   "metadata": {},
   "source": [
    "# 학습/검증 구간 분리\n",
    "\n",
    "- 총 5420일"
   ]
  },
  {
   "cell_type": "code",
   "execution_count": 22,
   "metadata": {},
   "outputs": [],
   "source": [
    "# count가  0일인 것만 추출\n",
    "zero_idx = peopleDfMerge[peopleDfMerge['values'] == 0].index"
   ]
  },
  {
   "cell_type": "code",
   "execution_count": 23,
   "metadata": {},
   "outputs": [
    {
     "data": {
      "text/plain": [
       "Int64Index([ 104,  364,  365,  366,  367,  368,  369,  370,  371,  372,\n",
       "            ...\n",
       "            5253, 5290, 5291, 5292, 5335, 5336, 5337, 5378, 5379, 5380],\n",
       "           dtype='int64', length=224)"
      ]
     },
     "execution_count": 23,
     "metadata": {},
     "output_type": "execute_result"
    }
   ],
   "source": [
    "zero_idx"
   ]
  },
  {
   "cell_type": "code",
   "execution_count": 24,
   "metadata": {},
   "outputs": [],
   "source": [
    "# 시작지점과 끝나는 지점 추출\n",
    "before_idx = zero_idx[-1]\n",
    "end_index = [zero_idx[-1]]\n",
    "start_index = [0]\n",
    "for i, idx in enumerate(zero_idx):\n",
    "    if idx != before_idx+1:\n",
    "        end_index.append(idx)\n",
    "    if idx-1 != before_idx:\n",
    "        start_index.append(zero_idx[i-1])\n",
    "    before_idx = zero_idx[i]\n",
    "start_index = np.sort(start_index)\n",
    "end_index = np.sort(end_index)"
   ]
  },
  {
   "cell_type": "markdown",
   "metadata": {},
   "source": [
    "* 227개의 식수인원 0이 등장하는데 그중에서 150개가 문제를 위한 식수인원 0, 따라서 그 직전을 맞추는 것이 좋음,\n",
    "- RNN의 input으로는 30일의 정보가 들어감 -> 따라서 총 33일 버퍼는 있어야, valid에 30 맞출 3일 생김."
   ]
  },
  {
   "cell_type": "markdown",
   "metadata": {},
   "source": [
    "## 학습 검증 데이터 완성\n",
    "\n",
    "- 특이사항 : 학습데이터의 경우 end -3 일까지만 집어넣는다 (3일은 맞춰야하는날) / 검증데이터는 -33일치 집어넣음 (앞에 30일을 이용해서 뒤에3일 맞춤)"
   ]
  },
  {
   "cell_type": "code",
   "execution_count": 25,
   "metadata": {
    "scrolled": true
   },
   "outputs": [
    {
     "data": {
      "text/plain": [
       "[(1, 104),\n",
       " (105, 364),\n",
       " (387, 2129),\n",
       " (2130, 2328),\n",
       " (2376, 2691),\n",
       " (2694, 2930),\n",
       " (2933, 2985),\n",
       " (2988, 3033),\n",
       " (3036, 3059),\n",
       " (3062, 3086),\n",
       " (3089, 3117),\n",
       " (3120, 3153),\n",
       " (3156, 3228),\n",
       " (3231, 3299),\n",
       " (3302, 3359),\n",
       " (3362, 3385),\n",
       " (3388, 3409),\n",
       " (3410, 3434),\n",
       " (3437, 3501),\n",
       " (3504, 3560),\n",
       " (3563, 3600),\n",
       " (3603, 3650),\n",
       " (3653, 3674),\n",
       " (3688, 3803),\n",
       " (3819, 3850),\n",
       " (3853, 4034),\n",
       " (4037, 4105),\n",
       " (4116, 4138),\n",
       " (4141, 4190),\n",
       " (4193, 4239),\n",
       " (4242, 4302),\n",
       " (4305, 4341),\n",
       " (4344, 4403),\n",
       " (4406, 4432),\n",
       " (4435, 4479),\n",
       " (4482, 4535),\n",
       " (4538, 4582),\n",
       " (4585, 4650),\n",
       " (4653, 4680),\n",
       " (4683, 4719),\n",
       " (4722, 4782),\n",
       " (4785, 4853),\n",
       " (4856, 4888),\n",
       " (4891, 4931),\n",
       " (4934, 4979),\n",
       " (4982, 5086),\n",
       " (5089, 5137),\n",
       " (5140, 5163),\n",
       " (5166, 5251),\n",
       " (5254, 5290),\n",
       " (5293, 5335),\n",
       " (5338, 5378)]"
      ]
     },
     "execution_count": 25,
     "metadata": {},
     "output_type": "execute_result"
    }
   ],
   "source": [
    "intervalDay = 18\n",
    "\n",
    "# end index 부터 start index 까지 쓰는거, end - start 차가 66보다 작으면 넘어감\n",
    "use_interval = []\n",
    "for start, end in zip(start_index, end_index):\n",
    "    if end-start>intervalDay+3:\n",
    "        use_interval.append((start+1, end))\n",
    "use_interval"
   ]
  },
  {
   "cell_type": "code",
   "execution_count": 26,
   "metadata": {
    "scrolled": true
   },
   "outputs": [
    {
     "data": {
      "text/plain": [
       "[(1, 104),\n",
       " (105, 364),\n",
       " (387, 2129),\n",
       " (2130, 2328),\n",
       " (2376, 2691),\n",
       " (2694, 2930),\n",
       " (2933, 2985),\n",
       " (2988, 3033),\n",
       " (3036, 3059),\n",
       " (3062, 3086),\n",
       " (3089, 3117),\n",
       " (3120, 3153),\n",
       " (3156, 3228),\n",
       " (3231, 3299),\n",
       " (3302, 3359),\n",
       " (3362, 3385),\n",
       " (3388, 3409),\n",
       " (3410, 3434),\n",
       " (3437, 3501),\n",
       " (3504, 3560),\n",
       " (3563, 3600),\n",
       " (3603, 3650),\n",
       " (3653, 3674),\n",
       " (3688, 3803),\n",
       " (3819, 3850),\n",
       " (3853, 4034),\n",
       " (4037, 4105),\n",
       " (4116, 4138),\n",
       " (4141, 4190),\n",
       " (4193, 4239),\n",
       " (4242, 4302),\n",
       " (4305, 4341),\n",
       " (4344, 4403),\n",
       " (4406, 4432),\n",
       " (4435, 4479),\n",
       " (4482, 4535),\n",
       " (4538, 4582),\n",
       " (4585, 4650),\n",
       " (4653, 4680),\n",
       " (4683, 4719),\n",
       " (4722, 4782),\n",
       " (4785, 4853),\n",
       " (4856, 4888),\n",
       " (4891, 4931),\n",
       " (4934, 4979),\n",
       " (4982, 5086),\n",
       " (5089, 5137),\n",
       " (5140, 5163),\n",
       " (5166, 5251),\n",
       " (5254, 5290),\n",
       " (5293, 5335),\n",
       " (5338, 5378)]"
      ]
     },
     "execution_count": 26,
     "metadata": {},
     "output_type": "execute_result"
    }
   ],
   "source": [
    "use_interval"
   ]
  },
  {
   "cell_type": "code",
   "execution_count": 27,
   "metadata": {},
   "outputs": [
    {
     "name": "stderr",
     "output_type": "stream",
     "text": [
      "/usr/local/lib/python3.5/dist-packages/ipykernel_launcher.py:10: SettingWithCopyWarning: \n",
      "A value is trying to be set on a copy of a slice from a DataFrame.\n",
      "Try using .loc[row_indexer,col_indexer] = value instead\n",
      "\n",
      "See the caveats in the documentation: http://pandas.pydata.org/pandas-docs/stable/indexing.html#indexing-view-versus-copy\n",
      "  # Remove the CWD from sys.path while we load stuff.\n",
      "/usr/local/lib/python3.5/dist-packages/ipykernel_launcher.py:11: SettingWithCopyWarning: \n",
      "A value is trying to be set on a copy of a slice from a DataFrame.\n",
      "Try using .loc[row_indexer,col_indexer] = value instead\n",
      "\n",
      "See the caveats in the documentation: http://pandas.pydata.org/pandas-docs/stable/indexing.html#indexing-view-versus-copy\n",
      "  # This is added back by InteractiveShellApp.init_path()\n",
      "/usr/local/lib/python3.5/dist-packages/ipykernel_launcher.py:12: SettingWithCopyWarning: \n",
      "A value is trying to be set on a copy of a slice from a DataFrame.\n",
      "Try using .loc[row_indexer,col_indexer] = value instead\n",
      "\n",
      "See the caveats in the documentation: http://pandas.pydata.org/pandas-docs/stable/indexing.html#indexing-view-versus-copy\n",
      "  if sys.path[0] == '':\n"
     ]
    }
   ],
   "source": [
    "# \n",
    "trainDf = []\n",
    "validDf = []\n",
    "predDf = []\n",
    "before_end = 0\n",
    "for i, (start, end) in enumerate(use_interval):\n",
    "    trainDfTemp = peopleDfMerge.iloc[start:end-3]\n",
    "    validDfTemp = peopleDfMerge.iloc[end-(intervalDay+4):end]\n",
    "    predDfTemp = peopleDfMerge.iloc[before_end-(intervalDay+4):start]\n",
    "    trainDfTemp['orderDf'] = i\n",
    "    validDfTemp['orderDf'] = i\n",
    "    predDfTemp['orderDf'] = i\n",
    "    trainDf.append(trainDfTemp)\n",
    "    validDf.append(validDfTemp)\n",
    "    predDf.append(predDfTemp)\n",
    "    before_end = end.copy()\n",
    "trainDf = pd.concat(trainDf)\n",
    "validDf = pd.concat(validDf)\n",
    "predDf = pd.concat(predDf)\n",
    "\n",
    "trainDf.to_pickle('trainData{}Dinner.pkl'.format(str(intervalDay)))\n",
    "validDf.to_pickle('validDate{}Dinner.pkl'.format(str(intervalDay)))\n",
    "predDf.to_pickle('predDate{}Dinner.pkl'.format(str(intervalDay)))"
   ]
  },
  {
   "cell_type": "code",
   "execution_count": null,
   "metadata": {},
   "outputs": [],
   "source": []
  }
 ],
 "metadata": {
  "kernelspec": {
   "display_name": "Python 3",
   "language": "python",
   "name": "python3"
  },
  "language_info": {
   "codemirror_mode": {
    "name": "ipython",
    "version": 3
   },
   "file_extension": ".py",
   "mimetype": "text/x-python",
   "name": "python",
   "nbconvert_exporter": "python",
   "pygments_lexer": "ipython3",
   "version": "3.5.2"
  }
 },
 "nbformat": 4,
 "nbformat_minor": 2
}
